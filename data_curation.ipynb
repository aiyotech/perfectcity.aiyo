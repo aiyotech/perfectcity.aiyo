{
 "cells": [
  {
   "cell_type": "markdown",
   "metadata": {},
   "source": [
    "# Building the dataset for PerfectCity.io\n",
    "\n",
    "PerfectCity.io requires many features for cities. Often we would need to look at multiple datasets for each city and extract relevant information and each dataset requires careful treatment to get the right data. This notebook will document the process that went from basically having no data to a complete PerfectCity.io dataset"
   ]
  },
  {
   "cell_type": "code",
   "execution_count": 131,
   "metadata": {
    "collapsed": true
   },
   "outputs": [],
   "source": [
    "import pandas as pd\n",
    "import json"
   ]
  },
  {
   "cell_type": "code",
   "execution_count": 132,
   "metadata": {
    "collapsed": false
   },
   "outputs": [
    {
     "name": "stdout",
     "output_type": "stream",
     "text": [
      "cities x parameters \n",
      "8 x 12 = 96\n"
     ]
    }
   ],
   "source": [
    "# define cities and the parameters we are going to use\n",
    "cities = ['VANCOUVER', 'MONTREAL', 'TORONTO', 'OTTAWA', 'HAMILTON', 'WINNIPEG', 'EDMONTON', 'CALGARY']\n",
    "parameters = ['TREES', 'PARKS', 'TRANSIT_SCORE', 'WALKABILITY', 'POPULATION', 'BUSINESSES' ,'CRIME', 'LIBRARIES', 'SCHOOLS', 'UNIVERSITIES', 'UNEMPLOYMENT', 'AVERAGE_AGE']\n",
    "\n",
    "print 'cities x parameters '\n",
    "print len(cities),'x',len(parameters),'=',len(cities)*len(parameters)"
   ]
  },
  {
   "cell_type": "code",
   "execution_count": 133,
   "metadata": {
    "collapsed": true
   },
   "outputs": [],
   "source": [
    "# build an empty object to hold the information\n",
    "data = { city: { parameter : 0 for parameter in parameters } for city in cities }"
   ]
  },
  {
   "cell_type": "markdown",
   "metadata": {},
   "source": [
    "#### Dealing with Accents\n",
    "Many Canadian cities have accents in their names, we use the REGEX in the following way to match the first 4 charaters of the city name which seemed to produce good enough results for our purposes    \n",
    "```\n",
    "search_city = city[:4] # select the first four letters of the city name\n",
    "search_term = r'\\b('+search_city+')\\w?' # incorporate it into the regex\n",
    "```"
   ]
  },
  {
   "cell_type": "markdown",
   "metadata": {},
   "source": [
    "---\n",
    "# Transit Score Ranking\n",
    "Obtained from [Walkscore 2014 Ranking](http://blog.walkscore.com/2014/03/best-canadian-cities-for-public-transit/#.VYWKBxNJaV4)"
   ]
  },
  {
   "cell_type": "code",
   "execution_count": 134,
   "metadata": {
    "collapsed": false
   },
   "outputs": [],
   "source": [
    "# RANKING FROM http://blog.walkscore.com/2014/03/best-canadian-cities-for-public-transit/#.VYWKBxNJaV4\n",
    "TRANSIT_SCORE = {'TORONTO': 78, 'MONTREAL': 77, 'VANCOUVER': 74, 'WINNIPEG': 51, 'OTTAWA': 49, 'EDMONTON': 44, 'CALGARY':43, 'HAMILTON': 42 }\n",
    "\n",
    "for city, score in TRANSIT_SCORE.items():\n",
    "    data[city]['TRANSIT_SCORE'] = score"
   ]
  },
  {
   "cell_type": "markdown",
   "metadata": {},
   "source": [
    "----\n",
    "# Population Information\n",
    "[Stats Canada census from 2011](http://www12.statcan.gc.ca/census-recensement/2011/dp-pd/hlt-fst/pd-pl/Table-Tableau.cfm?LANG=Eng&T=205&S=3&RPP=50)"
   ]
  },
  {
   "cell_type": "code",
   "execution_count": 135,
   "metadata": {
    "collapsed": false
   },
   "outputs": [
    {
     "name": "stdout",
     "output_type": "stream",
     "text": [
      "Index([u'Geographic name', u'Population, 2011'], dtype='object')\n"
     ]
    },
    {
     "data": {
      "text/html": [
       "<div style=\"max-height:1000px;max-width:1500px;overflow:auto;\">\n",
       "<table border=\"1\" class=\"dataframe\">\n",
       "  <thead>\n",
       "    <tr style=\"text-align: right;\">\n",
       "      <th></th>\n",
       "      <th>Geographic name</th>\n",
       "      <th>Population, 2011</th>\n",
       "    </tr>\n",
       "  </thead>\n",
       "  <tbody>\n",
       "    <tr>\n",
       "      <th>0</th>\n",
       "      <td>TORONTO (ONT.)</td>\n",
       "      <td>5583064</td>\n",
       "    </tr>\n",
       "    <tr>\n",
       "      <th>1</th>\n",
       "      <td>MONTR�AL (QUE.)</td>\n",
       "      <td>3824221</td>\n",
       "    </tr>\n",
       "    <tr>\n",
       "      <th>2</th>\n",
       "      <td>VANCOUVER (B.C.)</td>\n",
       "      <td>2313328</td>\n",
       "    </tr>\n",
       "    <tr>\n",
       "      <th>3</th>\n",
       "      <td>OTTAWA - GATINEAU (ONT./QUE.)</td>\n",
       "      <td>1236324</td>\n",
       "    </tr>\n",
       "    <tr>\n",
       "      <th>4</th>\n",
       "      <td>CALGARY (ALTA.)</td>\n",
       "      <td>1214839</td>\n",
       "    </tr>\n",
       "  </tbody>\n",
       "</table>\n",
       "</div>"
      ],
      "text/plain": [
       "                 Geographic name  Population, 2011\n",
       "0                 TORONTO (ONT.)           5583064\n",
       "1                MONTR�AL (QUE.)           3824221\n",
       "2               VANCOUVER (B.C.)           2313328\n",
       "3  OTTAWA - GATINEAU (ONT./QUE.)           1236324\n",
       "4                CALGARY (ALTA.)           1214839"
      ]
     },
     "execution_count": 135,
     "metadata": {},
     "output_type": "execute_result"
    }
   ],
   "source": [
    "population_df = pd.read_csv('./datasets/canadian_population_census_2011.CSV')\n",
    "print(population_df.columns[[1,4]]) # we need to keep columns 1 and 4 and delete everything else\n",
    "population_df = population_df[[1,4]]\n",
    "population_df['Geographic name'] = population_df['Geographic name'].str.upper()\n",
    "population_df.head() #all good"
   ]
  },
  {
   "cell_type": "code",
   "execution_count": 136,
   "metadata": {
    "collapsed": false
   },
   "outputs": [],
   "source": [
    "for city in cities:\n",
    "    search_term = city[:4]\n",
    "    data[city]['POPULATION'] = population_df[ population_df['Geographic name'].str.contains(r'\\b('+search_term+')\\w?', na=False) ]['Population, 2011'].tolist()[0]"
   ]
  },
  {
   "cell_type": "markdown",
   "metadata": {},
   "source": [
    "-----\n",
    "# Age Groups\n",
    "Curated from *[Statistics Canada. Table  051-0056 -  Estimates of population by census metropolitan area, sex and age group for July 1, based on the Standard Geographical Classification (SGC) 2011, annual (persons),  CANSIM (database). (accessed: 2015-06-20)](http://www5.statcan.gc.ca/cansim/a47)*"
   ]
  },
  {
   "cell_type": "code",
   "execution_count": null,
   "metadata": {
    "collapsed": true
   },
   "outputs": [],
   "source": []
  },
  {
   "cell_type": "markdown",
   "metadata": {},
   "source": [
    "----\n",
    "# Parks and Green Spaces\n",
    "Curate from *[Statistics Canada. Table  153-0148 -  Households and the environment survey, parks and green spaces, Canada, provinces and census metropolitan areas (CMA), every 2 years (percent),  CANSIM (database). (accessed: 2015-06-20)](http://www5.statcan.gc.ca/cansim/a26)*\n",
    "\n",
    "- \"Close to home\" is defined as being a 10 minute journey from home"
   ]
  },
  {
   "cell_type": "code",
   "execution_count": 137,
   "metadata": {
    "collapsed": false
   },
   "outputs": [
    {
     "data": {
      "text/html": [
       "<div style=\"max-height:1000px;max-width:1500px;overflow:auto;\">\n",
       "<table border=\"1\" class=\"dataframe\">\n",
       "  <thead>\n",
       "    <tr style=\"text-align: right;\">\n",
       "      <th></th>\n",
       "      <th>CITY</th>\n",
       "      <th>PARKS</th>\n",
       "    </tr>\n",
       "  </thead>\n",
       "  <tbody>\n",
       "    <tr>\n",
       "      <th>0</th>\n",
       "      <td>MONTREAL, QUEBEC [24462]</td>\n",
       "      <td>91</td>\n",
       "    </tr>\n",
       "    <tr>\n",
       "      <th>1</th>\n",
       "      <td>OTTAWA-GATINEAU, ONTARIO/QUEBEC [24505 35505]</td>\n",
       "      <td>91</td>\n",
       "    </tr>\n",
       "    <tr>\n",
       "      <th>2</th>\n",
       "      <td>TORONTO, ONTARIO [35535]</td>\n",
       "      <td>85</td>\n",
       "    </tr>\n",
       "    <tr>\n",
       "      <th>3</th>\n",
       "      <td>HAMILTON, ONTARIO [35537]</td>\n",
       "      <td>86</td>\n",
       "    </tr>\n",
       "    <tr>\n",
       "      <th>4</th>\n",
       "      <td>WINNIPEG, MANITOBA [46602]</td>\n",
       "      <td>88</td>\n",
       "    </tr>\n",
       "  </tbody>\n",
       "</table>\n",
       "</div>"
      ],
      "text/plain": [
       "                                            CITY  PARKS\n",
       "0                       MONTREAL, QUEBEC [24462]     91\n",
       "1  OTTAWA-GATINEAU, ONTARIO/QUEBEC [24505 35505]     91\n",
       "2                       TORONTO, ONTARIO [35535]     85\n",
       "3                      HAMILTON, ONTARIO [35537]     86\n",
       "4                     WINNIPEG, MANITOBA [46602]     88"
      ]
     },
     "execution_count": 137,
     "metadata": {},
     "output_type": "execute_result"
    }
   ],
   "source": [
    "parks_df = pd.read_csv('./datasets/canadian_parks2013.csv')\n",
    "parks_df['CITY'] = parks_df['CITY'].str.upper()\n",
    "parks_df.head() #all good"
   ]
  },
  {
   "cell_type": "code",
   "execution_count": 138,
   "metadata": {
    "collapsed": false
   },
   "outputs": [],
   "source": [
    "for city in cities:\n",
    "    search_term = city[:4]\n",
    "    data[city]['PARKS'] = parks_df[ parks_df['CITY'].str.contains(r'\\b('+search_term+')\\w?', na=False) ]['PARKS'].tolist()[0]"
   ]
  },
  {
   "cell_type": "markdown",
   "metadata": {},
   "source": [
    "-----\n",
    "# Crime severity Index\n",
    "\n",
    "We obtain the crime severity statistic from [Statistics Canada. Table  252-0052 -  Crime severity index and weighted clearance rates, annual (index unless otherwise noted),  CANSIM (database). (accessed: 2015-06-20)](http://www5.statcan.gc.ca/cansim/a26)"
   ]
  },
  {
   "cell_type": "code",
   "execution_count": 139,
   "metadata": {
    "collapsed": false
   },
   "outputs": [
    {
     "data": {
      "text/html": [
       "<div style=\"max-height:1000px;max-width:1500px;overflow:auto;\">\n",
       "<table border=\"1\" class=\"dataframe\">\n",
       "  <thead>\n",
       "    <tr style=\"text-align: right;\">\n",
       "      <th></th>\n",
       "      <th>CITY</th>\n",
       "      <th>CRIME_SEVERITY_INDEX</th>\n",
       "    </tr>\n",
       "  </thead>\n",
       "  <tbody>\n",
       "    <tr>\n",
       "      <th>0</th>\n",
       "      <td>MONTR�AL, QUEBEC (28,34)</td>\n",
       "      <td>65.93</td>\n",
       "    </tr>\n",
       "    <tr>\n",
       "      <th>1</th>\n",
       "      <td>OTTAWA-GATINEAU, ONTARIO/QUEBEC (6)</td>\n",
       "      <td>53.28</td>\n",
       "    </tr>\n",
       "    <tr>\n",
       "      <th>2</th>\n",
       "      <td>TORONTO, ONTARIO (25)</td>\n",
       "      <td>47.14</td>\n",
       "    </tr>\n",
       "    <tr>\n",
       "      <th>3</th>\n",
       "      <td>HAMILTON, ONTARIO (25)</td>\n",
       "      <td>55.11</td>\n",
       "    </tr>\n",
       "    <tr>\n",
       "      <th>4</th>\n",
       "      <td>WINNIPEG, MANITOBA (9,10,33)</td>\n",
       "      <td>83.17</td>\n",
       "    </tr>\n",
       "  </tbody>\n",
       "</table>\n",
       "</div>"
      ],
      "text/plain": [
       "                                  CITY  CRIME_SEVERITY_INDEX\n",
       "0             MONTR�AL, QUEBEC (28,34)                 65.93\n",
       "1  OTTAWA-GATINEAU, ONTARIO/QUEBEC (6)                 53.28\n",
       "2                TORONTO, ONTARIO (25)                 47.14\n",
       "3               HAMILTON, ONTARIO (25)                 55.11\n",
       "4         WINNIPEG, MANITOBA (9,10,33)                 83.17"
      ]
     },
     "execution_count": 139,
     "metadata": {},
     "output_type": "execute_result"
    }
   ],
   "source": [
    "crime_df = pd.read_csv('./datasets/crime_severity2013.csv')\n",
    "crime_df['CITY'] = crime_df['CITY'].str.upper()\n",
    "crime_df.head()"
   ]
  },
  {
   "cell_type": "code",
   "execution_count": 140,
   "metadata": {
    "collapsed": false
   },
   "outputs": [],
   "source": [
    "for city in cities:\n",
    "    search_term = city[:4]\n",
    "    data[city]['CRIME'] = crime_df[ crime_df['CITY'].str.contains(r'\\b('+search_term+')\\w?', na=False) ]['CRIME_SEVERITY_INDEX'].tolist()[0]"
   ]
  },
  {
   "cell_type": "code",
   "execution_count": null,
   "metadata": {
    "collapsed": true
   },
   "outputs": [],
   "source": []
  },
  {
   "cell_type": "markdown",
   "metadata": {},
   "source": [
    "# Final Curated Data set"
   ]
  },
  {
   "cell_type": "code",
   "execution_count": 141,
   "metadata": {
    "collapsed": false
   },
   "outputs": [
    {
     "data": {
      "text/html": [
       "<div style=\"max-height:1000px;max-width:1500px;overflow:auto;\">\n",
       "<table border=\"1\" class=\"dataframe\">\n",
       "  <thead>\n",
       "    <tr style=\"text-align: right;\">\n",
       "      <th></th>\n",
       "      <th>AVERAGE_AGE</th>\n",
       "      <th>BUSINESSES</th>\n",
       "      <th>CRIME</th>\n",
       "      <th>LIBRARIES</th>\n",
       "      <th>PARKS</th>\n",
       "      <th>POPULATION</th>\n",
       "      <th>SCHOOLS</th>\n",
       "      <th>TRANSIT_SCORE</th>\n",
       "      <th>TREES</th>\n",
       "      <th>UNEMPLOYMENT</th>\n",
       "      <th>UNIVERSITIES</th>\n",
       "      <th>WALKABILITY</th>\n",
       "    </tr>\n",
       "  </thead>\n",
       "  <tbody>\n",
       "    <tr>\n",
       "      <th>CALGARY</th>\n",
       "      <td>0</td>\n",
       "      <td>0</td>\n",
       "      <td>60.40</td>\n",
       "      <td>0</td>\n",
       "      <td>88</td>\n",
       "      <td>1214839</td>\n",
       "      <td>0</td>\n",
       "      <td>43</td>\n",
       "      <td>0</td>\n",
       "      <td>0</td>\n",
       "      <td>0</td>\n",
       "      <td>0</td>\n",
       "    </tr>\n",
       "    <tr>\n",
       "      <th>EDMONTON</th>\n",
       "      <td>0</td>\n",
       "      <td>0</td>\n",
       "      <td>84.49</td>\n",
       "      <td>0</td>\n",
       "      <td>89</td>\n",
       "      <td>1159869</td>\n",
       "      <td>0</td>\n",
       "      <td>44</td>\n",
       "      <td>0</td>\n",
       "      <td>0</td>\n",
       "      <td>0</td>\n",
       "      <td>0</td>\n",
       "    </tr>\n",
       "    <tr>\n",
       "      <th>HAMILTON</th>\n",
       "      <td>0</td>\n",
       "      <td>0</td>\n",
       "      <td>55.11</td>\n",
       "      <td>0</td>\n",
       "      <td>86</td>\n",
       "      <td>721053</td>\n",
       "      <td>0</td>\n",
       "      <td>42</td>\n",
       "      <td>0</td>\n",
       "      <td>0</td>\n",
       "      <td>0</td>\n",
       "      <td>0</td>\n",
       "    </tr>\n",
       "    <tr>\n",
       "      <th>MONTREAL</th>\n",
       "      <td>0</td>\n",
       "      <td>0</td>\n",
       "      <td>65.93</td>\n",
       "      <td>0</td>\n",
       "      <td>91</td>\n",
       "      <td>3824221</td>\n",
       "      <td>0</td>\n",
       "      <td>77</td>\n",
       "      <td>0</td>\n",
       "      <td>0</td>\n",
       "      <td>0</td>\n",
       "      <td>0</td>\n",
       "    </tr>\n",
       "    <tr>\n",
       "      <th>OTTAWA</th>\n",
       "      <td>0</td>\n",
       "      <td>0</td>\n",
       "      <td>53.28</td>\n",
       "      <td>0</td>\n",
       "      <td>91</td>\n",
       "      <td>1236324</td>\n",
       "      <td>0</td>\n",
       "      <td>49</td>\n",
       "      <td>0</td>\n",
       "      <td>0</td>\n",
       "      <td>0</td>\n",
       "      <td>0</td>\n",
       "    </tr>\n",
       "    <tr>\n",
       "      <th>TORONTO</th>\n",
       "      <td>0</td>\n",
       "      <td>0</td>\n",
       "      <td>47.14</td>\n",
       "      <td>0</td>\n",
       "      <td>85</td>\n",
       "      <td>5583064</td>\n",
       "      <td>0</td>\n",
       "      <td>78</td>\n",
       "      <td>0</td>\n",
       "      <td>0</td>\n",
       "      <td>0</td>\n",
       "      <td>0</td>\n",
       "    </tr>\n",
       "    <tr>\n",
       "      <th>VANCOUVER</th>\n",
       "      <td>0</td>\n",
       "      <td>0</td>\n",
       "      <td>90.26</td>\n",
       "      <td>0</td>\n",
       "      <td>87</td>\n",
       "      <td>2313328</td>\n",
       "      <td>0</td>\n",
       "      <td>74</td>\n",
       "      <td>0</td>\n",
       "      <td>0</td>\n",
       "      <td>0</td>\n",
       "      <td>0</td>\n",
       "    </tr>\n",
       "    <tr>\n",
       "      <th>WINNIPEG</th>\n",
       "      <td>0</td>\n",
       "      <td>0</td>\n",
       "      <td>83.17</td>\n",
       "      <td>0</td>\n",
       "      <td>88</td>\n",
       "      <td>730018</td>\n",
       "      <td>0</td>\n",
       "      <td>51</td>\n",
       "      <td>0</td>\n",
       "      <td>0</td>\n",
       "      <td>0</td>\n",
       "      <td>0</td>\n",
       "    </tr>\n",
       "  </tbody>\n",
       "</table>\n",
       "</div>"
      ],
      "text/plain": [
       "           AVERAGE_AGE  BUSINESSES  CRIME  LIBRARIES  PARKS  POPULATION  \\\n",
       "CALGARY              0           0  60.40          0     88     1214839   \n",
       "EDMONTON             0           0  84.49          0     89     1159869   \n",
       "HAMILTON             0           0  55.11          0     86      721053   \n",
       "MONTREAL             0           0  65.93          0     91     3824221   \n",
       "OTTAWA               0           0  53.28          0     91     1236324   \n",
       "TORONTO              0           0  47.14          0     85     5583064   \n",
       "VANCOUVER            0           0  90.26          0     87     2313328   \n",
       "WINNIPEG             0           0  83.17          0     88      730018   \n",
       "\n",
       "           SCHOOLS  TRANSIT_SCORE  TREES  UNEMPLOYMENT  UNIVERSITIES  \\\n",
       "CALGARY          0             43      0             0             0   \n",
       "EDMONTON         0             44      0             0             0   \n",
       "HAMILTON         0             42      0             0             0   \n",
       "MONTREAL         0             77      0             0             0   \n",
       "OTTAWA           0             49      0             0             0   \n",
       "TORONTO          0             78      0             0             0   \n",
       "VANCOUVER        0             74      0             0             0   \n",
       "WINNIPEG         0             51      0             0             0   \n",
       "\n",
       "           WALKABILITY  \n",
       "CALGARY              0  \n",
       "EDMONTON             0  \n",
       "HAMILTON             0  \n",
       "MONTREAL             0  \n",
       "OTTAWA               0  \n",
       "TORONTO              0  \n",
       "VANCOUVER            0  \n",
       "WINNIPEG             0  "
      ]
     },
     "execution_count": 141,
     "metadata": {},
     "output_type": "execute_result"
    }
   ],
   "source": [
    "s = json.dumps(data)\n",
    "df = pd.read_json(s, orient='index')\n",
    "df"
   ]
  },
  {
   "cell_type": "code",
   "execution_count": null,
   "metadata": {
    "collapsed": true
   },
   "outputs": [],
   "source": []
  }
 ],
 "metadata": {
  "kernelspec": {
   "display_name": "Python 2",
   "language": "python",
   "name": "python2"
  },
  "language_info": {
   "codemirror_mode": {
    "name": "ipython",
    "version": 2
   },
   "file_extension": ".py",
   "mimetype": "text/x-python",
   "name": "python",
   "nbconvert_exporter": "python",
   "pygments_lexer": "ipython2",
   "version": "2.7.6"
  }
 },
 "nbformat": 4,
 "nbformat_minor": 0
}

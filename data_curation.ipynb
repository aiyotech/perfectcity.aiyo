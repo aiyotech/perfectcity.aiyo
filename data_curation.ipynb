{
 "cells": [
  {
   "cell_type": "markdown",
   "metadata": {},
   "source": [
    "# Building the dataset for PerfectCity.io\n",
    "\n",
    "PerfectCity.io requires many features for cities. Often we would need to look at multiple datasets for each city and extract relevant information and each dataset requires careful treatment to get the right data. This notebook will document the process that went from basically having no data to a complete PerfectCity.io dataset"
   ]
  },
  {
   "cell_type": "code",
   "execution_count": 216,
   "metadata": {
    "collapsed": true
   },
   "outputs": [],
   "source": [
    "import pandas as pd\n",
    "import json"
   ]
  },
  {
   "cell_type": "code",
   "execution_count": 217,
   "metadata": {
    "collapsed": false
   },
   "outputs": [
    {
     "name": "stdout",
     "output_type": "stream",
     "text": [
      "cities x parameters \n",
      "8 x 9 = 72\n"
     ]
    }
   ],
   "source": [
    "# define cities and the parameters we are going to use\n",
    "cities = ['VANCOUVER', 'MONTREAL', 'TORONTO', 'OTTAWA', 'HAMILTON', 'WINNIPEG', 'EDMONTON', 'CALGARY']\n",
    "parameters = ['PARKS', 'TRANSIT_SCORE', 'OUTDOOR', 'POPULATION', 'BUSINESSES' ,'CRIME', 'SCHOOLS', 'UNIVERSITIES', 'UNEMPLOYMENT']\n",
    "\n",
    "print 'cities x parameters '\n",
    "print len(cities),'x',len(parameters),'=',len(cities)*len(parameters)"
   ]
  },
  {
   "cell_type": "code",
   "execution_count": 218,
   "metadata": {
    "collapsed": true
   },
   "outputs": [],
   "source": [
    "# build an empty object to hold the information\n",
    "data = { city: { parameter : 0 for parameter in parameters } for city in cities }"
   ]
  },
  {
   "cell_type": "markdown",
   "metadata": {},
   "source": [
    "#### Dealing with Accents\n",
    "Many Canadian cities have accents in their names, we use the REGEX in the following way to match the first 4 charaters of the city name which seemed to produce good enough results for our purposes    \n",
    "```\n",
    "search_city = city[:4] # select the first four letters of the city name\n",
    "search_term = r'\\b('+search_city+')\\w?' # incorporate it into the regex\n",
    "```"
   ]
  },
  {
   "cell_type": "markdown",
   "metadata": {},
   "source": [
    "---\n",
    "# Transit Score Ranking\n",
    "Obtained from [Walkscore 2014 Ranking](http://blog.walkscore.com/2014/03/best-canadian-cities-for-public-transit/#.VYWKBxNJaV4)"
   ]
  },
  {
   "cell_type": "code",
   "execution_count": 219,
   "metadata": {
    "collapsed": false
   },
   "outputs": [],
   "source": [
    "# RANKING FROM http://blog.walkscore.com/2014/03/best-canadian-cities-for-public-transit/#.VYWKBxNJaV4\n",
    "TRANSIT_SCORE = {'TORONTO': 78, 'MONTREAL': 77, 'VANCOUVER': 74, 'WINNIPEG': 51, 'OTTAWA': 49, 'EDMONTON': 44, 'CALGARY':43, 'HAMILTON': 42 }\n",
    "\n",
    "for city, score in TRANSIT_SCORE.items():\n",
    "    data[city]['TRANSIT_SCORE'] = score/100.0"
   ]
  },
  {
   "cell_type": "markdown",
   "metadata": {},
   "source": [
    "----\n",
    "# Population Information\n",
    "[Stats Canada census from 2011](http://www12.statcan.gc.ca/census-recensement/2011/dp-pd/hlt-fst/pd-pl/Table-Tableau.cfm?LANG=Eng&T=205&S=3&RPP=50)"
   ]
  },
  {
   "cell_type": "code",
   "execution_count": 220,
   "metadata": {
    "collapsed": false
   },
   "outputs": [
    {
     "name": "stdout",
     "output_type": "stream",
     "text": [
      "Index([u'Geographic name', u'Population, 2011'], dtype='object')\n"
     ]
    },
    {
     "data": {
      "text/html": [
       "<div style=\"max-height:1000px;max-width:1500px;overflow:auto;\">\n",
       "<table border=\"1\" class=\"dataframe\">\n",
       "  <thead>\n",
       "    <tr style=\"text-align: right;\">\n",
       "      <th></th>\n",
       "      <th>Geographic name</th>\n",
       "      <th>Population, 2011</th>\n",
       "    </tr>\n",
       "  </thead>\n",
       "  <tbody>\n",
       "    <tr>\n",
       "      <th>0</th>\n",
       "      <td>TORONTO (ONT.)</td>\n",
       "      <td>5583064</td>\n",
       "    </tr>\n",
       "    <tr>\n",
       "      <th>1</th>\n",
       "      <td>MONTR�AL (QUE.)</td>\n",
       "      <td>3824221</td>\n",
       "    </tr>\n",
       "    <tr>\n",
       "      <th>2</th>\n",
       "      <td>VANCOUVER (B.C.)</td>\n",
       "      <td>2313328</td>\n",
       "    </tr>\n",
       "    <tr>\n",
       "      <th>3</th>\n",
       "      <td>OTTAWA - GATINEAU (ONT./QUE.)</td>\n",
       "      <td>1236324</td>\n",
       "    </tr>\n",
       "    <tr>\n",
       "      <th>4</th>\n",
       "      <td>CALGARY (ALTA.)</td>\n",
       "      <td>1214839</td>\n",
       "    </tr>\n",
       "  </tbody>\n",
       "</table>\n",
       "</div>"
      ],
      "text/plain": [
       "                 Geographic name  Population, 2011\n",
       "0                 TORONTO (ONT.)           5583064\n",
       "1                MONTR�AL (QUE.)           3824221\n",
       "2               VANCOUVER (B.C.)           2313328\n",
       "3  OTTAWA - GATINEAU (ONT./QUE.)           1236324\n",
       "4                CALGARY (ALTA.)           1214839"
      ]
     },
     "execution_count": 220,
     "metadata": {},
     "output_type": "execute_result"
    }
   ],
   "source": [
    "population_df = pd.read_csv('./datasets/canadian_population_census_2011.CSV')\n",
    "print(population_df.columns[[1,4]]) # we need to keep columns 1 and 4 and delete everything else\n",
    "population_df = population_df[[1,4]]\n",
    "population_df['Geographic name'] = population_df['Geographic name'].str.upper()\n",
    "population_df.head() #all good"
   ]
  },
  {
   "cell_type": "code",
   "execution_count": 221,
   "metadata": {
    "collapsed": false
   },
   "outputs": [],
   "source": [
    "for city in cities:\n",
    "    search_term = city[:4]\n",
    "    data[city]['POPULATION'] = population_df[ population_df['Geographic name'].str.contains(r'\\b('+search_term+')\\w?', na=False) ]['Population, 2011'].tolist()[0]"
   ]
  },
  {
   "cell_type": "markdown",
   "metadata": {},
   "source": [
    "-----\n",
    "# Age Groups\n",
    "Curated from *[Statistics Canada. Table  051-0056 -  Estimates of population by census metropolitan area, sex and age group for July 1, based on the Standard Geographical Classification (SGC) 2011, annual (persons),  CANSIM (database). (accessed: 2015-06-20)](http://www5.statcan.gc.ca/cansim/a47)*"
   ]
  },
  {
   "cell_type": "code",
   "execution_count": 222,
   "metadata": {
    "collapsed": false
   },
   "outputs": [
    {
     "data": {
      "text/html": [
       "<div style=\"max-height:1000px;max-width:1500px;overflow:auto;\">\n",
       "<table border=\"1\" class=\"dataframe\">\n",
       "  <thead>\n",
       "    <tr style=\"text-align: right;\">\n",
       "      <th></th>\n",
       "      <th>Geography</th>\n",
       "      <th>Age</th>\n",
       "      <th>2014</th>\n",
       "    </tr>\n",
       "  </thead>\n",
       "  <tbody>\n",
       "    <tr>\n",
       "      <th>0</th>\n",
       "      <td>MONTR�AL, QUEBEC [24462]</td>\n",
       "      <td>0-4</td>\n",
       "      <td>226900</td>\n",
       "    </tr>\n",
       "    <tr>\n",
       "      <th>1</th>\n",
       "      <td>MONTR�AL, QUEBEC [24462]</td>\n",
       "      <td>5-9</td>\n",
       "      <td>217483</td>\n",
       "    </tr>\n",
       "    <tr>\n",
       "      <th>2</th>\n",
       "      <td>MONTR�AL, QUEBEC [24462]</td>\n",
       "      <td>10-14</td>\n",
       "      <td>199491</td>\n",
       "    </tr>\n",
       "    <tr>\n",
       "      <th>3</th>\n",
       "      <td>MONTR�AL, QUEBEC [24462]</td>\n",
       "      <td>15-19</td>\n",
       "      <td>227351</td>\n",
       "    </tr>\n",
       "    <tr>\n",
       "      <th>4</th>\n",
       "      <td>MONTR�AL, QUEBEC [24462]</td>\n",
       "      <td>20-24</td>\n",
       "      <td>287307</td>\n",
       "    </tr>\n",
       "  </tbody>\n",
       "</table>\n",
       "</div>"
      ],
      "text/plain": [
       "                   Geography    Age    2014\n",
       "0  MONTR�AL, QUEBEC [24462]     0-4  226900\n",
       "1  MONTR�AL, QUEBEC [24462]     5-9  217483\n",
       "2  MONTR�AL, QUEBEC [24462]   10-14  199491\n",
       "3  MONTR�AL, QUEBEC [24462]   15-19  227351\n",
       "4  MONTR�AL, QUEBEC [24462]   20-24  287307"
      ]
     },
     "execution_count": 222,
     "metadata": {},
     "output_type": "execute_result"
    }
   ],
   "source": [
    "age_df = pd.read_csv('./datasets/age_groups.csv')\n",
    "age_df['Geography'] = age_df['Geography'].str.upper()\n",
    "\n",
    "age_df['Age'] = age_df['Age'].str[:-6] # get rid of the years prefix.\n",
    "age_df['Age'] = age_df['Age'].str.replace(' to ', '-') # remove the space around 'to' and add the '-'\n",
    "age_df['Age'] = age_df['Age'].str.replace(' years an', '+') # remove the 'years and over' part of 90\n",
    "\n",
    "age_df.head()"
   ]
  },
  {
   "cell_type": "code",
   "execution_count": 223,
   "metadata": {
    "collapsed": false
   },
   "outputs": [
    {
     "name": "stdout",
     "output_type": "stream",
     "text": [
      "['AGE_CAT_0-4', 'AGE_CAT_5-9', 'AGE_CAT_10-14', 'AGE_CAT_15-19', 'AGE_CAT_20-24', 'AGE_CAT_25-29', 'AGE_CAT_30-34', 'AGE_CAT_35-39', 'AGE_CAT_40-44', 'AGE_CAT_45-49', 'AGE_CAT_50-54', 'AGE_CAT_55-59', 'AGE_CAT_60-64', 'AGE_CAT_65-69', 'AGE_CAT_70-74', 'AGE_CAT_75-79', 'AGE_CAT_80-84', 'AGE_CAT_85-89', 'AGE_CAT_90+']\n"
     ]
    }
   ],
   "source": [
    "# prepare our breakdowns\n",
    "\n",
    "age_breakdowns = age_df[ age_df['Geography'].str.contains(r'\\b('+search_term+')\\w?', na=False) ]['Age'].tolist()\n",
    "\n",
    "for key, age in enumerate(age_breakdowns):\n",
    "    age_breakdowns[key] = 'AGE_CAT_'+age\n",
    "    \n",
    "print age_breakdowns"
   ]
  },
  {
   "cell_type": "code",
   "execution_count": 224,
   "metadata": {
    "collapsed": false
   },
   "outputs": [],
   "source": [
    "for city in cities:\n",
    "    search_term = city[:4]\n",
    "    ages = age_df[ age_df['Geography'].str.contains(r'\\b('+search_term+')\\w?', na=False) ]['2014'].tolist()    \n",
    "    total = sum(ages) # get totals so we can normalize later\n",
    "    for key, age in enumerate(ages):\n",
    "        ages[key] = age / float(total)\n",
    "\n",
    "    associations =  dict( zip( age_breakdowns, ages ) )\n",
    "    for category, value in associations.items():\n",
    "        data[city][category] = value\n",
    "        \n",
    "#     data[city]['AGE_'] = population_df[ population_df['Geography'].str.contains(r'\\b('+search_term+')\\w?', na=False) ]['Population, 2011'].tolist()[0]"
   ]
  },
  {
   "cell_type": "markdown",
   "metadata": {},
   "source": [
    "----\n",
    "# Parks and Green Spaces\n",
    "Curate from *[Statistics Canada. Table  153-0148 -  Households and the environment survey, parks and green spaces, Canada, provinces and census metropolitan areas (CMA), every 2 years (percent),  CANSIM (database). (accessed: 2015-06-20)](http://www5.statcan.gc.ca/cansim/a26)*\n",
    "\n",
    "- \"Close to home\" is defined as being a 10 minute journey from home"
   ]
  },
  {
   "cell_type": "code",
   "execution_count": 225,
   "metadata": {
    "collapsed": false
   },
   "outputs": [
    {
     "data": {
      "text/html": [
       "<div style=\"max-height:1000px;max-width:1500px;overflow:auto;\">\n",
       "<table border=\"1\" class=\"dataframe\">\n",
       "  <thead>\n",
       "    <tr style=\"text-align: right;\">\n",
       "      <th></th>\n",
       "      <th>CITY</th>\n",
       "      <th>PARKS</th>\n",
       "    </tr>\n",
       "  </thead>\n",
       "  <tbody>\n",
       "    <tr>\n",
       "      <th>0</th>\n",
       "      <td>MONTREAL, QUEBEC [24462]</td>\n",
       "      <td>91</td>\n",
       "    </tr>\n",
       "    <tr>\n",
       "      <th>1</th>\n",
       "      <td>OTTAWA-GATINEAU, ONTARIO/QUEBEC [24505 35505]</td>\n",
       "      <td>91</td>\n",
       "    </tr>\n",
       "    <tr>\n",
       "      <th>2</th>\n",
       "      <td>TORONTO, ONTARIO [35535]</td>\n",
       "      <td>85</td>\n",
       "    </tr>\n",
       "    <tr>\n",
       "      <th>3</th>\n",
       "      <td>HAMILTON, ONTARIO [35537]</td>\n",
       "      <td>86</td>\n",
       "    </tr>\n",
       "    <tr>\n",
       "      <th>4</th>\n",
       "      <td>WINNIPEG, MANITOBA [46602]</td>\n",
       "      <td>88</td>\n",
       "    </tr>\n",
       "  </tbody>\n",
       "</table>\n",
       "</div>"
      ],
      "text/plain": [
       "                                            CITY  PARKS\n",
       "0                       MONTREAL, QUEBEC [24462]     91\n",
       "1  OTTAWA-GATINEAU, ONTARIO/QUEBEC [24505 35505]     91\n",
       "2                       TORONTO, ONTARIO [35535]     85\n",
       "3                      HAMILTON, ONTARIO [35537]     86\n",
       "4                     WINNIPEG, MANITOBA [46602]     88"
      ]
     },
     "execution_count": 225,
     "metadata": {},
     "output_type": "execute_result"
    }
   ],
   "source": [
    "parks_df = pd.read_csv('./datasets/canadian_parks2013.csv')\n",
    "parks_df['CITY'] = parks_df['CITY'].str.upper()\n",
    "parks_df.head() #all good"
   ]
  },
  {
   "cell_type": "code",
   "execution_count": 226,
   "metadata": {
    "collapsed": false
   },
   "outputs": [],
   "source": [
    "for city in cities:\n",
    "    search_term = city[:4]\n",
    "    data[city]['PARKS'] = parks_df[ parks_df['CITY'].str.contains(r'\\b('+search_term+')\\w?', na=False) ]['PARKS'].tolist()[0]/100.0"
   ]
  },
  {
   "cell_type": "markdown",
   "metadata": {},
   "source": [
    "# Outdoor Activities\n",
    "Curated from [Statistics Canada. Table  153-0153 -  Households and the environment survey, participation in outdoor activities, Canada, provinces and census metropolitan areas (CMA), every 2 years (percent),  CANSIM (database). (accessed: 2015-06-20)](http://www5.statcan.gc.ca/cansim/a47)"
   ]
  },
  {
   "cell_type": "code",
   "execution_count": 227,
   "metadata": {
    "collapsed": false
   },
   "outputs": [
    {
     "data": {
      "text/html": [
       "<div style=\"max-height:1000px;max-width:1500px;overflow:auto;\">\n",
       "<table border=\"1\" class=\"dataframe\">\n",
       "  <thead>\n",
       "    <tr style=\"text-align: right;\">\n",
       "      <th></th>\n",
       "      <th>CITY</th>\n",
       "      <th>OUTDOOR</th>\n",
       "    </tr>\n",
       "  </thead>\n",
       "  <tbody>\n",
       "    <tr>\n",
       "      <th>0</th>\n",
       "      <td>MONTR�AL, QUEBEC [24462]</td>\n",
       "      <td>66</td>\n",
       "    </tr>\n",
       "    <tr>\n",
       "      <th>1</th>\n",
       "      <td>OTTAWA-GATINEAU, ONTARIO/QUEBEC [24505 35505]</td>\n",
       "      <td>79</td>\n",
       "    </tr>\n",
       "    <tr>\n",
       "      <th>2</th>\n",
       "      <td>TORONTO, ONTARIO [35535]</td>\n",
       "      <td>69</td>\n",
       "    </tr>\n",
       "    <tr>\n",
       "      <th>3</th>\n",
       "      <td>HAMILTON, ONTARIO [35537]</td>\n",
       "      <td>73</td>\n",
       "    </tr>\n",
       "    <tr>\n",
       "      <th>4</th>\n",
       "      <td>WINNIPEG, MANITOBA [46602]</td>\n",
       "      <td>73</td>\n",
       "    </tr>\n",
       "  </tbody>\n",
       "</table>\n",
       "</div>"
      ],
      "text/plain": [
       "                                             CITY  OUTDOOR\n",
       "0                       MONTR�AL, QUEBEC [24462]        66\n",
       "1  OTTAWA-GATINEAU, ONTARIO/QUEBEC [24505 35505]        79\n",
       "2                       TORONTO, ONTARIO [35535]        69\n",
       "3                      HAMILTON, ONTARIO [35537]        73\n",
       "4                     WINNIPEG, MANITOBA [46602]        73"
      ]
     },
     "execution_count": 227,
     "metadata": {},
     "output_type": "execute_result"
    }
   ],
   "source": [
    "outdoor_df = pd.read_csv('./datasets/outdoor_activities2013.csv')\n",
    "outdoor_df['CITY'] = outdoor_df['CITY'].str.upper()\n",
    "outdoor_df.head() #all good"
   ]
  },
  {
   "cell_type": "code",
   "execution_count": 228,
   "metadata": {
    "collapsed": true
   },
   "outputs": [],
   "source": [
    "for city in cities:\n",
    "    search_term = city[:4]\n",
    "    data[city]['OUTDOOR'] = outdoor_df[ outdoor_df['CITY'].str.contains(r'\\b('+search_term+')\\w?', na=False) ]['OUTDOOR'].tolist()[0]/100.0"
   ]
  },
  {
   "cell_type": "markdown",
   "metadata": {},
   "source": [
    "-----\n",
    "# Crime severity Index\n",
    "\n",
    "We obtain the crime severity statistic from [Statistics Canada. Table  252-0052 -  Crime severity index and weighted clearance rates, annual (index unless otherwise noted),  CANSIM (database). (accessed: 2015-06-20)](http://www5.statcan.gc.ca/cansim/a26)"
   ]
  },
  {
   "cell_type": "code",
   "execution_count": 229,
   "metadata": {
    "collapsed": false
   },
   "outputs": [
    {
     "data": {
      "text/html": [
       "<div style=\"max-height:1000px;max-width:1500px;overflow:auto;\">\n",
       "<table border=\"1\" class=\"dataframe\">\n",
       "  <thead>\n",
       "    <tr style=\"text-align: right;\">\n",
       "      <th></th>\n",
       "      <th>CITY</th>\n",
       "      <th>CRIME_SEVERITY_INDEX</th>\n",
       "    </tr>\n",
       "  </thead>\n",
       "  <tbody>\n",
       "    <tr>\n",
       "      <th>0</th>\n",
       "      <td>MONTR�AL, QUEBEC (28,34)</td>\n",
       "      <td>65.93</td>\n",
       "    </tr>\n",
       "    <tr>\n",
       "      <th>1</th>\n",
       "      <td>OTTAWA-GATINEAU, ONTARIO/QUEBEC (6)</td>\n",
       "      <td>53.28</td>\n",
       "    </tr>\n",
       "    <tr>\n",
       "      <th>2</th>\n",
       "      <td>TORONTO, ONTARIO (25)</td>\n",
       "      <td>47.14</td>\n",
       "    </tr>\n",
       "    <tr>\n",
       "      <th>3</th>\n",
       "      <td>HAMILTON, ONTARIO (25)</td>\n",
       "      <td>55.11</td>\n",
       "    </tr>\n",
       "    <tr>\n",
       "      <th>4</th>\n",
       "      <td>WINNIPEG, MANITOBA (9,10,33)</td>\n",
       "      <td>83.17</td>\n",
       "    </tr>\n",
       "  </tbody>\n",
       "</table>\n",
       "</div>"
      ],
      "text/plain": [
       "                                  CITY  CRIME_SEVERITY_INDEX\n",
       "0             MONTR�AL, QUEBEC (28,34)                 65.93\n",
       "1  OTTAWA-GATINEAU, ONTARIO/QUEBEC (6)                 53.28\n",
       "2                TORONTO, ONTARIO (25)                 47.14\n",
       "3               HAMILTON, ONTARIO (25)                 55.11\n",
       "4         WINNIPEG, MANITOBA (9,10,33)                 83.17"
      ]
     },
     "execution_count": 229,
     "metadata": {},
     "output_type": "execute_result"
    }
   ],
   "source": [
    "crime_df = pd.read_csv('./datasets/crime_severity2013.csv')\n",
    "crime_df['CITY'] = crime_df['CITY'].str.upper()\n",
    "crime_df.head()"
   ]
  },
  {
   "cell_type": "code",
   "execution_count": 230,
   "metadata": {
    "collapsed": false
   },
   "outputs": [],
   "source": [
    "for city in cities:\n",
    "    search_term = city[:4]\n",
    "    data[city]['CRIME'] = crime_df[ crime_df['CITY'].str.contains(r'\\b('+search_term+')\\w?', na=False) ]['CRIME_SEVERITY_INDEX'].tolist()[0]/100.0"
   ]
  },
  {
   "cell_type": "markdown",
   "metadata": {},
   "source": [
    "# Unemployment\n",
    "Curated from [Statistics Canada. Table  109-5334 -  Unemployment rate, Canada, provinces, health regions (2014 boundaries) and peer groups, annual (percent),  CANSIM (database).](http://www5.statcan.gc.ca/cansim/a26?lang=eng&retrLang=eng&id=1095334&pattern=unemployment&tabMode=dataTable&srchLan=-1&p1=1&p2=-1)"
   ]
  },
  {
   "cell_type": "code",
   "execution_count": null,
   "metadata": {
    "collapsed": true
   },
   "outputs": [],
   "source": []
  },
  {
   "cell_type": "code",
   "execution_count": null,
   "metadata": {
    "collapsed": true
   },
   "outputs": [],
   "source": []
  },
  {
   "cell_type": "markdown",
   "metadata": {},
   "source": [
    "# Final Curated Data set"
   ]
  },
  {
   "cell_type": "code",
   "execution_count": 231,
   "metadata": {
    "collapsed": false
   },
   "outputs": [
    {
     "data": {
      "text/html": [
       "<div style=\"max-height:1000px;max-width:1500px;overflow:auto;\">\n",
       "<table border=\"1\" class=\"dataframe\">\n",
       "  <thead>\n",
       "    <tr style=\"text-align: right;\">\n",
       "      <th></th>\n",
       "      <th>AGE_CAT_0-4</th>\n",
       "      <th>AGE_CAT_10-14</th>\n",
       "      <th>AGE_CAT_15-19</th>\n",
       "      <th>AGE_CAT_20-24</th>\n",
       "      <th>AGE_CAT_25-29</th>\n",
       "      <th>AGE_CAT_30-34</th>\n",
       "      <th>AGE_CAT_35-39</th>\n",
       "      <th>AGE_CAT_40-44</th>\n",
       "      <th>AGE_CAT_45-49</th>\n",
       "      <th>AGE_CAT_5-9</th>\n",
       "      <th>...</th>\n",
       "      <th>AGE_CAT_90+</th>\n",
       "      <th>BUSINESSES</th>\n",
       "      <th>CRIME</th>\n",
       "      <th>OUTDOOR</th>\n",
       "      <th>PARKS</th>\n",
       "      <th>POPULATION</th>\n",
       "      <th>SCHOOLS</th>\n",
       "      <th>TRANSIT_SCORE</th>\n",
       "      <th>UNEMPLOYMENT</th>\n",
       "      <th>UNIVERSITIES</th>\n",
       "    </tr>\n",
       "  </thead>\n",
       "  <tbody>\n",
       "    <tr>\n",
       "      <th>CALGARY</th>\n",
       "      <td>0.063840</td>\n",
       "      <td>0.053175</td>\n",
       "      <td>0.056785</td>\n",
       "      <td>0.068301</td>\n",
       "      <td>0.085462</td>\n",
       "      <td>0.093434</td>\n",
       "      <td>0.082916</td>\n",
       "      <td>0.077784</td>\n",
       "      <td>0.071268</td>\n",
       "      <td>0.059873</td>\n",
       "      <td>...</td>\n",
       "      <td>0.004525</td>\n",
       "      <td>0</td>\n",
       "      <td>0.6040</td>\n",
       "      <td>0.69</td>\n",
       "      <td>0.88</td>\n",
       "      <td>1214839</td>\n",
       "      <td>0</td>\n",
       "      <td>0.43</td>\n",
       "      <td>0</td>\n",
       "      <td>0</td>\n",
       "    </tr>\n",
       "    <tr>\n",
       "      <th>EDMONTON</th>\n",
       "      <td>0.061928</td>\n",
       "      <td>0.051831</td>\n",
       "      <td>0.057203</td>\n",
       "      <td>0.075901</td>\n",
       "      <td>0.090961</td>\n",
       "      <td>0.089605</td>\n",
       "      <td>0.075942</td>\n",
       "      <td>0.068441</td>\n",
       "      <td>0.066505</td>\n",
       "      <td>0.057247</td>\n",
       "      <td>...</td>\n",
       "      <td>0.005763</td>\n",
       "      <td>0</td>\n",
       "      <td>0.8449</td>\n",
       "      <td>0.80</td>\n",
       "      <td>0.89</td>\n",
       "      <td>1159869</td>\n",
       "      <td>0</td>\n",
       "      <td>0.44</td>\n",
       "      <td>0</td>\n",
       "      <td>0</td>\n",
       "    </tr>\n",
       "    <tr>\n",
       "      <th>HAMILTON</th>\n",
       "      <td>0.050418</td>\n",
       "      <td>0.054018</td>\n",
       "      <td>0.062290</td>\n",
       "      <td>0.072376</td>\n",
       "      <td>0.066994</td>\n",
       "      <td>0.063852</td>\n",
       "      <td>0.062413</td>\n",
       "      <td>0.065816</td>\n",
       "      <td>0.071380</td>\n",
       "      <td>0.053104</td>\n",
       "      <td>...</td>\n",
       "      <td>0.009022</td>\n",
       "      <td>0</td>\n",
       "      <td>0.5511</td>\n",
       "      <td>0.73</td>\n",
       "      <td>0.86</td>\n",
       "      <td>721053</td>\n",
       "      <td>0</td>\n",
       "      <td>0.42</td>\n",
       "      <td>0</td>\n",
       "      <td>0</td>\n",
       "    </tr>\n",
       "    <tr>\n",
       "      <th>MONTREAL</th>\n",
       "      <td>0.056343</td>\n",
       "      <td>0.049537</td>\n",
       "      <td>0.056455</td>\n",
       "      <td>0.071343</td>\n",
       "      <td>0.069167</td>\n",
       "      <td>0.075015</td>\n",
       "      <td>0.074128</td>\n",
       "      <td>0.069141</td>\n",
       "      <td>0.071504</td>\n",
       "      <td>0.054005</td>\n",
       "      <td>...</td>\n",
       "      <td>0.007277</td>\n",
       "      <td>0</td>\n",
       "      <td>0.6593</td>\n",
       "      <td>0.66</td>\n",
       "      <td>0.91</td>\n",
       "      <td>3824221</td>\n",
       "      <td>0</td>\n",
       "      <td>0.77</td>\n",
       "      <td>0</td>\n",
       "      <td>0</td>\n",
       "    </tr>\n",
       "    <tr>\n",
       "      <th>OTTAWA</th>\n",
       "      <td>0.054458</td>\n",
       "      <td>0.052970</td>\n",
       "      <td>0.061301</td>\n",
       "      <td>0.076179</td>\n",
       "      <td>0.073756</td>\n",
       "      <td>0.070534</td>\n",
       "      <td>0.068428</td>\n",
       "      <td>0.069660</td>\n",
       "      <td>0.072807</td>\n",
       "      <td>0.055031</td>\n",
       "      <td>...</td>\n",
       "      <td>0.006840</td>\n",
       "      <td>0</td>\n",
       "      <td>0.5328</td>\n",
       "      <td>0.79</td>\n",
       "      <td>0.91</td>\n",
       "      <td>1236324</td>\n",
       "      <td>0</td>\n",
       "      <td>0.49</td>\n",
       "      <td>0</td>\n",
       "      <td>0</td>\n",
       "    </tr>\n",
       "    <tr>\n",
       "      <th>TORONTO</th>\n",
       "      <td>0.053736</td>\n",
       "      <td>0.054635</td>\n",
       "      <td>0.063571</td>\n",
       "      <td>0.072731</td>\n",
       "      <td>0.073705</td>\n",
       "      <td>0.074372</td>\n",
       "      <td>0.071559</td>\n",
       "      <td>0.073017</td>\n",
       "      <td>0.075850</td>\n",
       "      <td>0.055133</td>\n",
       "      <td>...</td>\n",
       "      <td>0.006661</td>\n",
       "      <td>0</td>\n",
       "      <td>0.4714</td>\n",
       "      <td>0.69</td>\n",
       "      <td>0.85</td>\n",
       "      <td>5583064</td>\n",
       "      <td>0</td>\n",
       "      <td>0.78</td>\n",
       "      <td>0</td>\n",
       "      <td>0</td>\n",
       "    </tr>\n",
       "    <tr>\n",
       "      <th>VANCOUVER</th>\n",
       "      <td>0.046733</td>\n",
       "      <td>0.048941</td>\n",
       "      <td>0.061900</td>\n",
       "      <td>0.074837</td>\n",
       "      <td>0.074465</td>\n",
       "      <td>0.076066</td>\n",
       "      <td>0.070180</td>\n",
       "      <td>0.073289</td>\n",
       "      <td>0.075123</td>\n",
       "      <td>0.048129</td>\n",
       "      <td>...</td>\n",
       "      <td>0.007272</td>\n",
       "      <td>0</td>\n",
       "      <td>0.9026</td>\n",
       "      <td>0.75</td>\n",
       "      <td>0.87</td>\n",
       "      <td>2313328</td>\n",
       "      <td>0</td>\n",
       "      <td>0.74</td>\n",
       "      <td>0</td>\n",
       "      <td>0</td>\n",
       "    </tr>\n",
       "    <tr>\n",
       "      <th>WINNIPEG</th>\n",
       "      <td>0.054495</td>\n",
       "      <td>0.056325</td>\n",
       "      <td>0.063847</td>\n",
       "      <td>0.074039</td>\n",
       "      <td>0.076011</td>\n",
       "      <td>0.073354</td>\n",
       "      <td>0.068369</td>\n",
       "      <td>0.066727</td>\n",
       "      <td>0.068052</td>\n",
       "      <td>0.054693</td>\n",
       "      <td>...</td>\n",
       "      <td>0.008554</td>\n",
       "      <td>0</td>\n",
       "      <td>0.8317</td>\n",
       "      <td>0.73</td>\n",
       "      <td>0.88</td>\n",
       "      <td>730018</td>\n",
       "      <td>0</td>\n",
       "      <td>0.51</td>\n",
       "      <td>0</td>\n",
       "      <td>0</td>\n",
       "    </tr>\n",
       "  </tbody>\n",
       "</table>\n",
       "<p>8 rows × 28 columns</p>\n",
       "</div>"
      ],
      "text/plain": [
       "           AGE_CAT_0-4  AGE_CAT_10-14  AGE_CAT_15-19  AGE_CAT_20-24  \\\n",
       "CALGARY       0.063840       0.053175       0.056785       0.068301   \n",
       "EDMONTON      0.061928       0.051831       0.057203       0.075901   \n",
       "HAMILTON      0.050418       0.054018       0.062290       0.072376   \n",
       "MONTREAL      0.056343       0.049537       0.056455       0.071343   \n",
       "OTTAWA        0.054458       0.052970       0.061301       0.076179   \n",
       "TORONTO       0.053736       0.054635       0.063571       0.072731   \n",
       "VANCOUVER     0.046733       0.048941       0.061900       0.074837   \n",
       "WINNIPEG      0.054495       0.056325       0.063847       0.074039   \n",
       "\n",
       "           AGE_CAT_25-29  AGE_CAT_30-34  AGE_CAT_35-39  AGE_CAT_40-44  \\\n",
       "CALGARY         0.085462       0.093434       0.082916       0.077784   \n",
       "EDMONTON        0.090961       0.089605       0.075942       0.068441   \n",
       "HAMILTON        0.066994       0.063852       0.062413       0.065816   \n",
       "MONTREAL        0.069167       0.075015       0.074128       0.069141   \n",
       "OTTAWA          0.073756       0.070534       0.068428       0.069660   \n",
       "TORONTO         0.073705       0.074372       0.071559       0.073017   \n",
       "VANCOUVER       0.074465       0.076066       0.070180       0.073289   \n",
       "WINNIPEG        0.076011       0.073354       0.068369       0.066727   \n",
       "\n",
       "           AGE_CAT_45-49  AGE_CAT_5-9      ...       AGE_CAT_90+  BUSINESSES  \\\n",
       "CALGARY         0.071268     0.059873      ...          0.004525           0   \n",
       "EDMONTON        0.066505     0.057247      ...          0.005763           0   \n",
       "HAMILTON        0.071380     0.053104      ...          0.009022           0   \n",
       "MONTREAL        0.071504     0.054005      ...          0.007277           0   \n",
       "OTTAWA          0.072807     0.055031      ...          0.006840           0   \n",
       "TORONTO         0.075850     0.055133      ...          0.006661           0   \n",
       "VANCOUVER       0.075123     0.048129      ...          0.007272           0   \n",
       "WINNIPEG        0.068052     0.054693      ...          0.008554           0   \n",
       "\n",
       "            CRIME  OUTDOOR  PARKS  POPULATION  SCHOOLS  TRANSIT_SCORE  \\\n",
       "CALGARY    0.6040     0.69   0.88     1214839        0           0.43   \n",
       "EDMONTON   0.8449     0.80   0.89     1159869        0           0.44   \n",
       "HAMILTON   0.5511     0.73   0.86      721053        0           0.42   \n",
       "MONTREAL   0.6593     0.66   0.91     3824221        0           0.77   \n",
       "OTTAWA     0.5328     0.79   0.91     1236324        0           0.49   \n",
       "TORONTO    0.4714     0.69   0.85     5583064        0           0.78   \n",
       "VANCOUVER  0.9026     0.75   0.87     2313328        0           0.74   \n",
       "WINNIPEG   0.8317     0.73   0.88      730018        0           0.51   \n",
       "\n",
       "           UNEMPLOYMENT  UNIVERSITIES  \n",
       "CALGARY               0             0  \n",
       "EDMONTON              0             0  \n",
       "HAMILTON              0             0  \n",
       "MONTREAL              0             0  \n",
       "OTTAWA                0             0  \n",
       "TORONTO               0             0  \n",
       "VANCOUVER             0             0  \n",
       "WINNIPEG              0             0  \n",
       "\n",
       "[8 rows x 28 columns]"
      ]
     },
     "execution_count": 231,
     "metadata": {},
     "output_type": "execute_result"
    }
   ],
   "source": [
    "s = json.dumps(data)\n",
    "df = pd.read_json(s, orient='index')\n",
    "df"
   ]
  },
  {
   "cell_type": "code",
   "execution_count": 232,
   "metadata": {
    "collapsed": false
   },
   "outputs": [
    {
     "data": {
      "text/plain": [
       "'{\"TORONTO\": {\"AGE_CAT_15-19\": 0.063570928926087122, \"UNEMPLOYMENT\": 0, \"AGE_CAT_65-69\": 0.043824157111519615, \"AGE_CAT_60-64\": 0.053129567992200435, \"CRIME\": 0.47139999999999999, \"POPULATION\": 5583064.0, \"OUTDOOR\": 0.68999999999999995, \"AGE_CAT_90+\": 0.0066611358113414683, \"AGE_CAT_55-59\": 0.065628156104868718, \"AGE_CAT_80-84\": 0.018273124732897338, \"AGE_CAT_30-34\": 0.074372279846307399, \"AGE_CAT_35-39\": 0.071559073696225259, \"AGE_CAT_0-4\": 0.053736101579266164, \"AGE_CAT_50-54\": 0.077314289752967599, \"AGE_CAT_45-49\": 0.07584955985444515, \"AGE_CAT_20-24\": 0.072730857615043221, \"AGE_CAT_10-14\": 0.054634590347908851, \"AGE_CAT_85-89\": 0.0115441192498205, \"PARKS\": 0.84999999999999998, \"BUSINESSES\": 0, \"AGE_CAT_70-74\": 0.03084437137491735, \"UNIVERSITIES\": 0, \"TRANSIT_SCORE\": 0.78, \"AGE_CAT_75-79\": 0.024473209148897803, \"AGE_CAT_25-29\": 0.073704647041377705, \"SCHOOLS\": 0, \"AGE_CAT_40-44\": 0.073016868007855049, \"AGE_CAT_5-9\": 0.055132961806053246}, \"EDMONTON\": {\"AGE_CAT_15-19\": 0.057202869855227399, \"UNEMPLOYMENT\": 0, \"AGE_CAT_65-69\": 0.03891996476673016, \"AGE_CAT_60-64\": 0.051420999932243715, \"CRIME\": 0.84489999999999998, \"POPULATION\": 1159869.0, \"OUTDOOR\": 0.80000000000000004, \"AGE_CAT_90+\": 0.0057630487318281395, \"AGE_CAT_55-59\": 0.065550444556535095, \"AGE_CAT_80-84\": 0.015343787877647201, \"AGE_CAT_30-34\": 0.089604679700968914, \"AGE_CAT_35-39\": 0.075942000617335068, \"AGE_CAT_0-4\": 0.061927741682915628, \"AGE_CAT_50-54\": 0.071893185975954052, \"AGE_CAT_45-49\": 0.066505055371944385, \"AGE_CAT_20-24\": 0.075901346844439097, \"AGE_CAT_10-14\": 0.051831301899434613, \"AGE_CAT_85-89\": 0.0095890204699275016, \"PARKS\": 0.89000000000000001, \"BUSINESSES\": 0, \"AGE_CAT_70-74\": 0.02621340219379804, \"UNIVERSITIES\": 0, \"TRANSIT_SCORE\": 0.44, \"AGE_CAT_75-79\": 0.019741923826875157, \"AGE_CAT_25-29\": 0.090960558311814432, \"SCHOOLS\": 0, \"AGE_CAT_40-44\": 0.068441379518026937, \"AGE_CAT_5-9\": 0.057247287866354489}, \"OTTAWA\": {\"AGE_CAT_15-19\": 0.061300850755848096, \"UNEMPLOYMENT\": 0, \"AGE_CAT_65-69\": 0.047200486753123001, \"AGE_CAT_60-64\": 0.056434078180927105, \"CRIME\": 0.53280000000000005, \"POPULATION\": 1236324.0, \"OUTDOOR\": 0.79000000000000004, \"AGE_CAT_90+\": 0.0068400345339809212, \"AGE_CAT_55-59\": 0.069967726811327027, \"AGE_CAT_80-84\": 0.017351959833763492, \"AGE_CAT_30-34\": 0.070533683528535299, \"AGE_CAT_35-39\": 0.068427656924017657, \"AGE_CAT_0-4\": 0.054457781601399566, \"AGE_CAT_50-54\": 0.080053287935411138, \"AGE_CAT_45-49\": 0.072807372913888085, \"AGE_CAT_20-24\": 0.076178836253396873, \"AGE_CAT_10-14\": 0.052970058917156379, \"AGE_CAT_85-89\": 0.011048294467431694, \"PARKS\": 0.91000000000000003, \"BUSINESSES\": 0, \"AGE_CAT_70-74\": 0.032483336140357269, \"UNIVERSITIES\": 0, \"TRANSIT_SCORE\": 0.49, \"AGE_CAT_75-79\": 0.023497824935779843, \"AGE_CAT_25-29\": 0.073755691810014554, \"SCHOOLS\": 0, \"AGE_CAT_40-44\": 0.069659712833865156, \"AGE_CAT_5-9\": 0.055031324869776847}, \"WINNIPEG\": {\"AGE_CAT_15-19\": 0.063846723908821429, \"UNEMPLOYMENT\": 0, \"AGE_CAT_65-69\": 0.046504139834406627, \"AGE_CAT_60-64\": 0.057067106204640707, \"CRIME\": 0.83169999999999999, \"POPULATION\": 730018.0, \"OUTDOOR\": 0.72999999999999998, \"AGE_CAT_90+\": 0.0085543800470203411, \"AGE_CAT_55-59\": 0.067507410814678523, \"AGE_CAT_80-84\": 0.019578605744659104, \"AGE_CAT_30-34\": 0.073354288050700198, \"AGE_CAT_35-39\": 0.068368598589389762, \"AGE_CAT_0-4\": 0.0544950424205254, \"AGE_CAT_50-54\": 0.075405039353981393, \"AGE_CAT_45-49\": 0.06805172237554942, \"AGE_CAT_20-24\": 0.074039149545129301, \"AGE_CAT_10-14\": 0.056324747010119594, \"AGE_CAT_85-89\": 0.013281968721251151, \"PARKS\": 0.88, \"BUSINESSES\": 0, \"AGE_CAT_70-74\": 0.032036440764591639, \"UNIVERSITIES\": 0, \"TRANSIT_SCORE\": 0.51, \"AGE_CAT_75-79\": 0.024154144945313299, \"AGE_CAT_25-29\": 0.076010681794950422, \"SCHOOLS\": 0, \"AGE_CAT_40-44\": 0.066726719820096078, \"AGE_CAT_5-9\": 0.054693090054175608}, \"HAMILTON\": {\"AGE_CAT_15-19\": 0.062289931889580624, \"UNEMPLOYMENT\": 0, \"AGE_CAT_65-69\": 0.051349401746930326, \"AGE_CAT_60-64\": 0.058866115719759339, \"CRIME\": 0.55110000000000003, \"POPULATION\": 721053.0, \"OUTDOOR\": 0.72999999999999998, \"AGE_CAT_90+\": 0.009022147647498523, \"AGE_CAT_55-59\": 0.070929187118087683, \"AGE_CAT_80-84\": 0.024009837590887945, \"AGE_CAT_30-34\": 0.063851557967037273, \"AGE_CAT_35-39\": 0.062412771095673447, \"AGE_CAT_0-4\": 0.050417653300715605, \"AGE_CAT_50-54\": 0.078943791915612085, \"AGE_CAT_45-49\": 0.071380033140449647, \"AGE_CAT_20-24\": 0.072375814789840412, \"AGE_CAT_10-14\": 0.054017887479287222, \"AGE_CAT_85-89\": 0.016425170014688434, \"PARKS\": 0.85999999999999999, \"BUSINESSES\": 0, \"AGE_CAT_70-74\": 0.037978223483719882, \"UNIVERSITIES\": 0, \"TRANSIT_SCORE\": 0.42, \"AGE_CAT_75-79\": 0.029815950278871135, \"AGE_CAT_25-29\": 0.066994412122922842, \"SCHOOLS\": 0, \"AGE_CAT_40-44\": 0.065815678464457655, \"AGE_CAT_5-9\": 0.053104434233979939}, \"CALGARY\": {\"AGE_CAT_15-19\": 0.056785247394472681, \"UNEMPLOYMENT\": 0, \"AGE_CAT_65-69\": 0.035442706833835567, \"AGE_CAT_60-64\": 0.04841613937660702, \"CRIME\": 0.60399999999999998, \"POPULATION\": 1214839.0, \"OUTDOOR\": 0.68999999999999995, \"AGE_CAT_90+\": 0.0045254176201250992, \"AGE_CAT_55-59\": 0.065002939459921333, \"AGE_CAT_80-84\": 0.013060869923744651, \"AGE_CAT_30-34\": 0.093434305736531983, \"AGE_CAT_35-39\": 0.082915517718154488, \"AGE_CAT_0-4\": 0.063839951205676176, \"AGE_CAT_50-54\": 0.072441514699787657, \"AGE_CAT_45-49\": 0.071267863350301872, \"AGE_CAT_20-24\": 0.068300679381341434, \"AGE_CAT_10-14\": 0.053175434219010026, \"AGE_CAT_85-89\": 0.0083093946845181101, \"PARKS\": 0.88, \"BUSINESSES\": 0, \"AGE_CAT_70-74\": 0.023005272545159987, \"UNIVERSITIES\": 0, \"TRANSIT_SCORE\": 0.43, \"AGE_CAT_75-79\": 0.016957164924672342, \"AGE_CAT_25-29\": 0.085461864861617901, \"SCHOOLS\": 0, \"AGE_CAT_40-44\": 0.077784436288361375, \"AGE_CAT_5-9\": 0.059873279776160304}, \"VANCOUVER\": {\"AGE_CAT_15-19\": 0.061900449704467779, \"UNEMPLOYMENT\": 0, \"AGE_CAT_65-69\": 0.048020292362553528, \"AGE_CAT_60-64\": 0.058151900445656358, \"CRIME\": 0.90260000000000007, \"POPULATION\": 2313328.0, \"OUTDOOR\": 0.75, \"AGE_CAT_90+\": 0.0072724284486551981, \"AGE_CAT_55-59\": 0.069107298781640528, \"AGE_CAT_80-84\": 0.019148771661939151, \"AGE_CAT_30-34\": 0.076065593944676102, \"AGE_CAT_35-39\": 0.070179642948659041, \"AGE_CAT_0-4\": 0.046732588778074145, \"AGE_CAT_50-54\": 0.077258976581282598, \"AGE_CAT_45-49\": 0.075122789276882179, \"AGE_CAT_20-24\": 0.074836992756717943, \"AGE_CAT_10-14\": 0.048940832428918238, \"AGE_CAT_85-89\": 0.012234600890826943, \"PARKS\": 0.87, \"BUSINESSES\": 0, \"AGE_CAT_70-74\": 0.033804141944525516, \"UNIVERSITIES\": 0, \"TRANSIT_SCORE\": 0.74, \"AGE_CAT_75-79\": 0.025339545292069065, \"AGE_CAT_25-29\": 0.074464971507382335, \"SCHOOLS\": 0, \"AGE_CAT_40-44\": 0.073289400551919223, \"AGE_CAT_5-9\": 0.04812878169315412}, \"MONTREAL\": {\"AGE_CAT_15-19\": 0.05645497118164565, \"UNEMPLOYMENT\": 0, \"AGE_CAT_65-69\": 0.048330556742645678, \"AGE_CAT_60-64\": 0.055892534641993626, \"CRIME\": 0.65930000000000011, \"POPULATION\": 3824221.0, \"OUTDOOR\": 0.66000000000000003, \"AGE_CAT_90+\": 0.0072769107260497014, \"AGE_CAT_55-59\": 0.067985044402688669, \"AGE_CAT_80-84\": 0.021433922645979597, \"AGE_CAT_30-34\": 0.075015128673809398, \"AGE_CAT_35-39\": 0.074127894344371573, \"AGE_CAT_0-4\": 0.056342980506421336, \"AGE_CAT_50-54\": 0.075369724425960877, \"AGE_CAT_45-49\": 0.07150443207442736, \"AGE_CAT_20-24\": 0.071343026444946653, \"AGE_CAT_10-14\": 0.049536877585749227, \"AGE_CAT_85-89\": 0.013277723713789578, \"PARKS\": 0.91000000000000003, \"BUSINESSES\": 0, \"AGE_CAT_70-74\": 0.036537019871019517, \"UNIVERSITIES\": 0, \"TRANSIT_SCORE\": 0.77, \"AGE_CAT_75-79\": 0.02725892765576202, \"AGE_CAT_25-29\": 0.069167030243193581, \"SCHOOLS\": 0, \"AGE_CAT_40-44\": 0.069140708709770585, \"AGE_CAT_5-9\": 0.054004585409775367}}'"
      ]
     },
     "execution_count": 232,
     "metadata": {},
     "output_type": "execute_result"
    }
   ],
   "source": [
    "s"
   ]
  },
  {
   "cell_type": "code",
   "execution_count": null,
   "metadata": {
    "collapsed": true
   },
   "outputs": [],
   "source": []
  }
 ],
 "metadata": {
  "kernelspec": {
   "display_name": "Python 2",
   "language": "python",
   "name": "python2"
  },
  "language_info": {
   "codemirror_mode": {
    "name": "ipython",
    "version": 2
   },
   "file_extension": ".py",
   "mimetype": "text/x-python",
   "name": "python",
   "nbconvert_exporter": "python",
   "pygments_lexer": "ipython2",
   "version": "2.7.6"
  }
 },
 "nbformat": 4,
 "nbformat_minor": 0
}

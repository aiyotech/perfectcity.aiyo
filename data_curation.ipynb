{
 "cells": [
  {
   "cell_type": "markdown",
   "metadata": {},
   "source": [
    "# Building the dataset for PerfectCity.io\n",
    "\n",
    "PerfectCity.io requires many features for cities. Often we would need to look at multiple datasets for each city and extract relevant information and each dataset requires careful treatment to get the right data. This notebook will document the process that went from basically having no data to a complete PerfectCity.io dataset"
   ]
  },
  {
   "cell_type": "code",
   "execution_count": 2,
   "metadata": {
    "collapsed": true
   },
   "outputs": [],
   "source": [
    "import pandas as pd\n",
    "import json"
   ]
  },
  {
   "cell_type": "code",
   "execution_count": 39,
   "metadata": {
    "collapsed": false
   },
   "outputs": [
    {
     "name": "stdout",
     "output_type": "stream",
     "text": [
      "cities x parameters \n",
      "9 x 7 = 63\n"
     ]
    }
   ],
   "source": [
    "# define cities and the parameters we are going to use\n",
    "cities = ['VANCOUVER', 'MONTREAL', 'TORONTO', 'OTTAWA', 'HAMILTON', 'WINNIPEG', 'EDMONTON', 'CALGARY' , 'SASKATOON']\n",
    "parameters = ['PARKS', 'TRANSIT_SCORE', 'OUTDOOR', 'POPULATION', 'BUSINESSES' ,'CRIME', 'UNIVERSITY']\n",
    "\n",
    "print 'cities x parameters '\n",
    "print len(cities),'x',len(parameters),'=',len(cities)*len(parameters)"
   ]
  },
  {
   "cell_type": "code",
   "execution_count": 4,
   "metadata": {
    "collapsed": true
   },
   "outputs": [],
   "source": [
    "# build an empty object to hold the information\n",
    "data = { city: { parameter : 0 for parameter in parameters } for city in cities }"
   ]
  },
  {
   "cell_type": "markdown",
   "metadata": {},
   "source": [
    "#### Dealing with Accents\n",
    "Many Canadian cities have accents in their names, we use the REGEX in the following way to match the first 4 charaters of the city name which seemed to produce good enough results for our purposes    \n",
    "```\n",
    "search_city = city[:4] # select the first four letters of the city name\n",
    "search_term = r'\\b('+search_city+')\\w?' # incorporate it into the regex\n",
    "```"
   ]
  },
  {
   "cell_type": "markdown",
   "metadata": {},
   "source": [
    "---\n",
    "# Transit Score Ranking\n",
    "Obtained from [WalkScore.com 2014 Transit Score Ranking](http://blog.walkscore.com/2014/03/best-canadian-cities-for-public-transit/#.VYWKBxNJaV4)"
   ]
  },
  {
   "cell_type": "code",
   "execution_count": 5,
   "metadata": {
    "collapsed": false
   },
   "outputs": [],
   "source": [
    "# RANKING FROM http://blog.walkscore.com/2014/03/best-canadian-cities-for-public-transit/#.VYWKBxNJaV4\n",
    "TRANSIT_SCORE = {'TORONTO': 78, 'MONTREAL': 77, 'VANCOUVER': 74, 'WINNIPEG': 51, 'OTTAWA': 49, 'EDMONTON': 44, 'CALGARY':43, 'HAMILTON': 42 }\n",
    "\n",
    "for city, score in TRANSIT_SCORE.items():\n",
    "    data[city]['TRANSIT_SCORE'] = score/100.0"
   ]
  },
  {
   "cell_type": "markdown",
   "metadata": {},
   "source": [
    "----\n",
    "# Population Information\n",
    "[Stats Canada census from 2011](http://www12.statcan.gc.ca/census-recensement/2011/dp-pd/hlt-fst/pd-pl/Table-Tableau.cfm?LANG=Eng&T=205&S=3&RPP=50)"
   ]
  },
  {
   "cell_type": "code",
   "execution_count": 6,
   "metadata": {
    "collapsed": false
   },
   "outputs": [
    {
     "name": "stdout",
     "output_type": "stream",
     "text": [
      "Index([u'Geographic name', u'Population, 2011'], dtype='object')\n"
     ]
    },
    {
     "data": {
      "text/html": [
       "<div style=\"max-height:1000px;max-width:1500px;overflow:auto;\">\n",
       "<table border=\"1\" class=\"dataframe\">\n",
       "  <thead>\n",
       "    <tr style=\"text-align: right;\">\n",
       "      <th></th>\n",
       "      <th>Geographic name</th>\n",
       "      <th>Population, 2011</th>\n",
       "    </tr>\n",
       "  </thead>\n",
       "  <tbody>\n",
       "    <tr>\n",
       "      <th>0</th>\n",
       "      <td>TORONTO (ONT.)</td>\n",
       "      <td>5583064</td>\n",
       "    </tr>\n",
       "    <tr>\n",
       "      <th>1</th>\n",
       "      <td>MONTR�AL (QUE.)</td>\n",
       "      <td>3824221</td>\n",
       "    </tr>\n",
       "    <tr>\n",
       "      <th>2</th>\n",
       "      <td>VANCOUVER (B.C.)</td>\n",
       "      <td>2313328</td>\n",
       "    </tr>\n",
       "    <tr>\n",
       "      <th>3</th>\n",
       "      <td>OTTAWA - GATINEAU (ONT./QUE.)</td>\n",
       "      <td>1236324</td>\n",
       "    </tr>\n",
       "    <tr>\n",
       "      <th>4</th>\n",
       "      <td>CALGARY (ALTA.)</td>\n",
       "      <td>1214839</td>\n",
       "    </tr>\n",
       "  </tbody>\n",
       "</table>\n",
       "</div>"
      ],
      "text/plain": [
       "                 Geographic name  Population, 2011\n",
       "0                 TORONTO (ONT.)           5583064\n",
       "1                MONTR�AL (QUE.)           3824221\n",
       "2               VANCOUVER (B.C.)           2313328\n",
       "3  OTTAWA - GATINEAU (ONT./QUE.)           1236324\n",
       "4                CALGARY (ALTA.)           1214839"
      ]
     },
     "execution_count": 6,
     "metadata": {},
     "output_type": "execute_result"
    }
   ],
   "source": [
    "population_df = pd.read_csv('./datasets/canadian_population_census_2011.CSV')\n",
    "print(population_df.columns[[1,4]]) # we need to keep columns 1 and 4 and delete everything else\n",
    "population_df = population_df[[1,4]]\n",
    "population_df['Geographic name'] = population_df['Geographic name'].str.upper()\n",
    "population_df.head() #all good"
   ]
  },
  {
   "cell_type": "code",
   "execution_count": 7,
   "metadata": {
    "collapsed": false
   },
   "outputs": [
    {
     "name": "stderr",
     "output_type": "stream",
     "text": [
      "/Library/Python/2.7/site-packages/pandas/core/strings.py:184: UserWarning: This pattern has match groups. To actually get the groups, use str.extract.\n",
      "  \" groups, use str.extract.\", UserWarning)\n"
     ]
    }
   ],
   "source": [
    "for city in cities:\n",
    "    search_term = city[:4]\n",
    "    data[city]['POPULATION'] = population_df[ population_df['Geographic name'].str.contains(r'\\b('+search_term+')\\w?', na=False) ]['Population, 2011'].tolist()[0]"
   ]
  },
  {
   "cell_type": "markdown",
   "metadata": {},
   "source": [
    "-----\n",
    "# Age Groups\n",
    "Curated from *[Statistics Canada. Table  051-0056 -  Estimates of population by census metropolitan area, sex and age group for July 1, based on the Standard Geographical Classification (SGC) 2011, annual (persons),  CANSIM (database). (accessed: 2015-06-20)](http://www5.statcan.gc.ca/cansim/a47)*"
   ]
  },
  {
   "cell_type": "code",
   "execution_count": 8,
   "metadata": {
    "collapsed": false
   },
   "outputs": [
    {
     "data": {
      "text/html": [
       "<div style=\"max-height:1000px;max-width:1500px;overflow:auto;\">\n",
       "<table border=\"1\" class=\"dataframe\">\n",
       "  <thead>\n",
       "    <tr style=\"text-align: right;\">\n",
       "      <th></th>\n",
       "      <th>Geography</th>\n",
       "      <th>Age</th>\n",
       "      <th>2014</th>\n",
       "    </tr>\n",
       "  </thead>\n",
       "  <tbody>\n",
       "    <tr>\n",
       "      <th>0</th>\n",
       "      <td>MONTR�AL, QUEBEC [24462]</td>\n",
       "      <td>0-4</td>\n",
       "      <td>226900</td>\n",
       "    </tr>\n",
       "    <tr>\n",
       "      <th>1</th>\n",
       "      <td>MONTR�AL, QUEBEC [24462]</td>\n",
       "      <td>5-9</td>\n",
       "      <td>217483</td>\n",
       "    </tr>\n",
       "    <tr>\n",
       "      <th>2</th>\n",
       "      <td>MONTR�AL, QUEBEC [24462]</td>\n",
       "      <td>10-14</td>\n",
       "      <td>199491</td>\n",
       "    </tr>\n",
       "    <tr>\n",
       "      <th>3</th>\n",
       "      <td>MONTR�AL, QUEBEC [24462]</td>\n",
       "      <td>15-19</td>\n",
       "      <td>227351</td>\n",
       "    </tr>\n",
       "    <tr>\n",
       "      <th>4</th>\n",
       "      <td>MONTR�AL, QUEBEC [24462]</td>\n",
       "      <td>20-24</td>\n",
       "      <td>287307</td>\n",
       "    </tr>\n",
       "  </tbody>\n",
       "</table>\n",
       "</div>"
      ],
      "text/plain": [
       "                   Geography    Age    2014\n",
       "0  MONTR�AL, QUEBEC [24462]     0-4  226900\n",
       "1  MONTR�AL, QUEBEC [24462]     5-9  217483\n",
       "2  MONTR�AL, QUEBEC [24462]   10-14  199491\n",
       "3  MONTR�AL, QUEBEC [24462]   15-19  227351\n",
       "4  MONTR�AL, QUEBEC [24462]   20-24  287307"
      ]
     },
     "execution_count": 8,
     "metadata": {},
     "output_type": "execute_result"
    }
   ],
   "source": [
    "age_df = pd.read_csv('./datasets/age_groups.csv')\n",
    "age_df['Geography'] = age_df['Geography'].str.upper()\n",
    "\n",
    "age_df['Age'] = age_df['Age'].str[:-6] # get rid of the years prefix.\n",
    "age_df['Age'] = age_df['Age'].str.replace(' to ', '-') # remove the space around 'to' and add the '-'\n",
    "age_df['Age'] = age_df['Age'].str.replace(' years an', '+') # remove the 'years and over' part of 90\n",
    "\n",
    "age_df.head()"
   ]
  },
  {
   "cell_type": "code",
   "execution_count": 9,
   "metadata": {
    "collapsed": false
   },
   "outputs": [
    {
     "name": "stdout",
     "output_type": "stream",
     "text": [
      "['AGE_CAT_0-4', 'AGE_CAT_5-9', 'AGE_CAT_10-14', 'AGE_CAT_15-19', 'AGE_CAT_20-24', 'AGE_CAT_25-29', 'AGE_CAT_30-34', 'AGE_CAT_35-39', 'AGE_CAT_40-44', 'AGE_CAT_45-49', 'AGE_CAT_50-54', 'AGE_CAT_55-59', 'AGE_CAT_60-64', 'AGE_CAT_65-69', 'AGE_CAT_70-74', 'AGE_CAT_75-79', 'AGE_CAT_80-84', 'AGE_CAT_85-89', 'AGE_CAT_90+']\n"
     ]
    }
   ],
   "source": [
    "# prepare our breakdowns\n",
    "\n",
    "age_breakdowns = age_df[ age_df['Geography'].str.contains(r'\\b('+search_term+')\\w?', na=False) ]['Age'].tolist()\n",
    "\n",
    "for key, age in enumerate(age_breakdowns):\n",
    "    age_breakdowns[key] = 'AGE_CAT_'+age\n",
    "    \n",
    "print age_breakdowns"
   ]
  },
  {
   "cell_type": "code",
   "execution_count": 10,
   "metadata": {
    "collapsed": false
   },
   "outputs": [],
   "source": [
    "for city in cities:\n",
    "    search_term = city[:4]\n",
    "    ages = age_df[ age_df['Geography'].str.contains(r'\\b('+search_term+')\\w?', na=False) ]['2014'].tolist()    \n",
    "    total = sum(ages) # get totals so we can normalize later\n",
    "    for key, age in enumerate(ages):\n",
    "        ages[key] = age / float(total)\n",
    "\n",
    "    associations =  dict( zip( age_breakdowns, ages ) )\n",
    "    for category, value in associations.items():\n",
    "        data[city][category] = value\n",
    "        \n",
    "#     data[city]['AGE_'] = population_df[ population_df['Geography'].str.contains(r'\\b('+search_term+')\\w?', na=False) ]['Population, 2011'].tolist()[0]"
   ]
  },
  {
   "cell_type": "markdown",
   "metadata": {},
   "source": [
    "----\n",
    "# Parks and Green Spaces\n",
    "Curate from *[Statistics Canada. Table  153-0148 -  Households and the environment survey, parks and green spaces, Canada, provinces and census metropolitan areas (CMA), every 2 years (percent),  CANSIM (database). (accessed: 2015-06-20)](http://www5.statcan.gc.ca/cansim/a26)*\n",
    "\n",
    "- \"Close to home\" is defined as being a 10 minute journey from home"
   ]
  },
  {
   "cell_type": "code",
   "execution_count": 11,
   "metadata": {
    "collapsed": false
   },
   "outputs": [
    {
     "data": {
      "text/html": [
       "<div style=\"max-height:1000px;max-width:1500px;overflow:auto;\">\n",
       "<table border=\"1\" class=\"dataframe\">\n",
       "  <thead>\n",
       "    <tr style=\"text-align: right;\">\n",
       "      <th></th>\n",
       "      <th>CITY</th>\n",
       "      <th>PARKS</th>\n",
       "    </tr>\n",
       "  </thead>\n",
       "  <tbody>\n",
       "    <tr>\n",
       "      <th>0</th>\n",
       "      <td>MONTREAL, QUEBEC [24462]</td>\n",
       "      <td>91</td>\n",
       "    </tr>\n",
       "    <tr>\n",
       "      <th>1</th>\n",
       "      <td>OTTAWA-GATINEAU, ONTARIO/QUEBEC [24505 35505]</td>\n",
       "      <td>91</td>\n",
       "    </tr>\n",
       "    <tr>\n",
       "      <th>2</th>\n",
       "      <td>TORONTO, ONTARIO [35535]</td>\n",
       "      <td>85</td>\n",
       "    </tr>\n",
       "    <tr>\n",
       "      <th>3</th>\n",
       "      <td>HAMILTON, ONTARIO [35537]</td>\n",
       "      <td>86</td>\n",
       "    </tr>\n",
       "    <tr>\n",
       "      <th>4</th>\n",
       "      <td>WINNIPEG, MANITOBA [46602]</td>\n",
       "      <td>88</td>\n",
       "    </tr>\n",
       "  </tbody>\n",
       "</table>\n",
       "</div>"
      ],
      "text/plain": [
       "                                            CITY  PARKS\n",
       "0                       MONTREAL, QUEBEC [24462]     91\n",
       "1  OTTAWA-GATINEAU, ONTARIO/QUEBEC [24505 35505]     91\n",
       "2                       TORONTO, ONTARIO [35535]     85\n",
       "3                      HAMILTON, ONTARIO [35537]     86\n",
       "4                     WINNIPEG, MANITOBA [46602]     88"
      ]
     },
     "execution_count": 11,
     "metadata": {},
     "output_type": "execute_result"
    }
   ],
   "source": [
    "parks_df = pd.read_csv('./datasets/canadian_parks2013.csv')\n",
    "parks_df['CITY'] = parks_df['CITY'].str.upper()\n",
    "parks_df.head() #all good"
   ]
  },
  {
   "cell_type": "code",
   "execution_count": 12,
   "metadata": {
    "collapsed": false
   },
   "outputs": [],
   "source": [
    "for city in cities:\n",
    "    search_term = city[:4]\n",
    "    data[city]['PARKS'] = parks_df[ parks_df['CITY'].str.contains(r'\\b('+search_term+')\\w?', na=False) ]['PARKS'].tolist()[0]/100.0"
   ]
  },
  {
   "cell_type": "markdown",
   "metadata": {},
   "source": [
    "# Outdoor Activities\n",
    "Curated from [Statistics Canada. Table  153-0153 -  Households and the environment survey, participation in outdoor activities, Canada, provinces and census metropolitan areas (CMA), every 2 years (percent),  CANSIM (database). (accessed: 2015-06-20)](http://www5.statcan.gc.ca/cansim/a47)"
   ]
  },
  {
   "cell_type": "code",
   "execution_count": 13,
   "metadata": {
    "collapsed": false
   },
   "outputs": [
    {
     "data": {
      "text/html": [
       "<div style=\"max-height:1000px;max-width:1500px;overflow:auto;\">\n",
       "<table border=\"1\" class=\"dataframe\">\n",
       "  <thead>\n",
       "    <tr style=\"text-align: right;\">\n",
       "      <th></th>\n",
       "      <th>CITY</th>\n",
       "      <th>OUTDOOR</th>\n",
       "    </tr>\n",
       "  </thead>\n",
       "  <tbody>\n",
       "    <tr>\n",
       "      <th>0</th>\n",
       "      <td>MONTR�AL, QUEBEC [24462]</td>\n",
       "      <td>66</td>\n",
       "    </tr>\n",
       "    <tr>\n",
       "      <th>1</th>\n",
       "      <td>OTTAWA-GATINEAU, ONTARIO/QUEBEC [24505 35505]</td>\n",
       "      <td>79</td>\n",
       "    </tr>\n",
       "    <tr>\n",
       "      <th>2</th>\n",
       "      <td>TORONTO, ONTARIO [35535]</td>\n",
       "      <td>69</td>\n",
       "    </tr>\n",
       "    <tr>\n",
       "      <th>3</th>\n",
       "      <td>HAMILTON, ONTARIO [35537]</td>\n",
       "      <td>73</td>\n",
       "    </tr>\n",
       "    <tr>\n",
       "      <th>4</th>\n",
       "      <td>WINNIPEG, MANITOBA [46602]</td>\n",
       "      <td>73</td>\n",
       "    </tr>\n",
       "  </tbody>\n",
       "</table>\n",
       "</div>"
      ],
      "text/plain": [
       "                                             CITY  OUTDOOR\n",
       "0                       MONTR�AL, QUEBEC [24462]        66\n",
       "1  OTTAWA-GATINEAU, ONTARIO/QUEBEC [24505 35505]        79\n",
       "2                       TORONTO, ONTARIO [35535]        69\n",
       "3                      HAMILTON, ONTARIO [35537]        73\n",
       "4                     WINNIPEG, MANITOBA [46602]        73"
      ]
     },
     "execution_count": 13,
     "metadata": {},
     "output_type": "execute_result"
    }
   ],
   "source": [
    "outdoor_df = pd.read_csv('./datasets/outdoor_activities2013.csv')\n",
    "outdoor_df['CITY'] = outdoor_df['CITY'].str.upper()\n",
    "outdoor_df.head() #all good"
   ]
  },
  {
   "cell_type": "code",
   "execution_count": 14,
   "metadata": {
    "collapsed": true
   },
   "outputs": [],
   "source": [
    "for city in cities:\n",
    "    search_term = city[:4]\n",
    "    data[city]['OUTDOOR'] = outdoor_df[ outdoor_df['CITY'].str.contains(r'\\b('+search_term+')\\w?', na=False) ]['OUTDOOR'].tolist()[0]/100.0"
   ]
  },
  {
   "cell_type": "markdown",
   "metadata": {},
   "source": [
    "-----\n",
    "# Crime severity Index\n",
    "\n",
    "We obtain the crime severity statistic from [Statistics Canada. Table  252-0052 -  Crime severity index and weighted clearance rates, annual (index unless otherwise noted),  CANSIM (database). (accessed: 2015-06-20)](http://www5.statcan.gc.ca/cansim/a26)"
   ]
  },
  {
   "cell_type": "code",
   "execution_count": 15,
   "metadata": {
    "collapsed": false
   },
   "outputs": [
    {
     "data": {
      "text/html": [
       "<div style=\"max-height:1000px;max-width:1500px;overflow:auto;\">\n",
       "<table border=\"1\" class=\"dataframe\">\n",
       "  <thead>\n",
       "    <tr style=\"text-align: right;\">\n",
       "      <th></th>\n",
       "      <th>CITY</th>\n",
       "      <th>CRIME_SEVERITY_INDEX</th>\n",
       "    </tr>\n",
       "  </thead>\n",
       "  <tbody>\n",
       "    <tr>\n",
       "      <th>0</th>\n",
       "      <td>MONTR�AL, QUEBEC (28,34)</td>\n",
       "      <td>65.93</td>\n",
       "    </tr>\n",
       "    <tr>\n",
       "      <th>1</th>\n",
       "      <td>OTTAWA-GATINEAU, ONTARIO/QUEBEC (6)</td>\n",
       "      <td>53.28</td>\n",
       "    </tr>\n",
       "    <tr>\n",
       "      <th>2</th>\n",
       "      <td>TORONTO, ONTARIO (25)</td>\n",
       "      <td>47.14</td>\n",
       "    </tr>\n",
       "    <tr>\n",
       "      <th>3</th>\n",
       "      <td>HAMILTON, ONTARIO (25)</td>\n",
       "      <td>55.11</td>\n",
       "    </tr>\n",
       "    <tr>\n",
       "      <th>4</th>\n",
       "      <td>WINNIPEG, MANITOBA (9,10,33)</td>\n",
       "      <td>83.17</td>\n",
       "    </tr>\n",
       "  </tbody>\n",
       "</table>\n",
       "</div>"
      ],
      "text/plain": [
       "                                  CITY  CRIME_SEVERITY_INDEX\n",
       "0             MONTR�AL, QUEBEC (28,34)                 65.93\n",
       "1  OTTAWA-GATINEAU, ONTARIO/QUEBEC (6)                 53.28\n",
       "2                TORONTO, ONTARIO (25)                 47.14\n",
       "3               HAMILTON, ONTARIO (25)                 55.11\n",
       "4         WINNIPEG, MANITOBA (9,10,33)                 83.17"
      ]
     },
     "execution_count": 15,
     "metadata": {},
     "output_type": "execute_result"
    }
   ],
   "source": [
    "crime_df = pd.read_csv('./datasets/crime_severity2013.csv')\n",
    "crime_df['CITY'] = crime_df['CITY'].str.upper()\n",
    "crime_df.head()"
   ]
  },
  {
   "cell_type": "code",
   "execution_count": 16,
   "metadata": {
    "collapsed": false
   },
   "outputs": [],
   "source": [
    "for city in cities:\n",
    "    search_term = city[:4]\n",
    "    data[city]['CRIME'] = crime_df[ crime_df['CITY'].str.contains(r'\\b('+search_term+')\\w?', na=False) ]['CRIME_SEVERITY_INDEX'].tolist()[0]/100.0"
   ]
  },
  {
   "cell_type": "markdown",
   "metadata": {},
   "source": [
    "# Unemployment\n",
    "Curated from [Statistics Canada. Table  109-5334 -  Unemployment rate, Canada, provinces, health regions (2014 boundaries) and peer groups, annual (percent),  CANSIM (database). (accessed: 2015-06-21)](http://www5.statcan.gc.ca/cansim/a26?lang=eng&retrLang=eng&id=1095334&pattern=unemployment&tabMode=dataTable&srchLan=-1&p1=1&p2=-1)"
   ]
  },
  {
   "cell_type": "code",
   "execution_count": 34,
   "metadata": {
    "collapsed": false
   },
   "outputs": [
    {
     "data": {
      "text/html": [
       "<div style=\"max-height:1000px;max-width:1500px;overflow:auto;\">\n",
       "<table border=\"1\" class=\"dataframe\">\n",
       "  <thead>\n",
       "    <tr style=\"text-align: right;\">\n",
       "      <th></th>\n",
       "      <th>CITY</th>\n",
       "      <th>CATEGORY</th>\n",
       "      <th>RATE</th>\n",
       "    </tr>\n",
       "  </thead>\n",
       "  <tbody>\n",
       "    <tr>\n",
       "      <th>0</th>\n",
       "      <td>R�GION DE MONTR�AL, QUEBEC [2406-G]</td>\n",
       "      <td>Unemployment rate, 15 years and over</td>\n",
       "      <td>9.8</td>\n",
       "    </tr>\n",
       "    <tr>\n",
       "      <th>1</th>\n",
       "      <td>R�GION DE MONTR�AL, QUEBEC [2406-G]</td>\n",
       "      <td>Unemployment rate, 15 to 24 years</td>\n",
       "      <td>13.8</td>\n",
       "    </tr>\n",
       "    <tr>\n",
       "      <th>2</th>\n",
       "      <td>CITY OF HAMILTON HEALTH UNIT, ONTARIO [3537-A]</td>\n",
       "      <td>Unemployment rate, 15 years and over</td>\n",
       "      <td>6.2</td>\n",
       "    </tr>\n",
       "    <tr>\n",
       "      <th>3</th>\n",
       "      <td>CITY OF HAMILTON HEALTH UNIT, ONTARIO [3537-A]</td>\n",
       "      <td>Unemployment rate, 15 to 24 years</td>\n",
       "      <td>13.7</td>\n",
       "    </tr>\n",
       "    <tr>\n",
       "      <th>4</th>\n",
       "      <td>CITY OF OTTAWA HEALTH UNIT, ONTARIO [3551-B]</td>\n",
       "      <td>Unemployment rate, 15 years and over</td>\n",
       "      <td>6.7</td>\n",
       "    </tr>\n",
       "  </tbody>\n",
       "</table>\n",
       "</div>"
      ],
      "text/plain": [
       "                                              CITY  \\\n",
       "0             R�GION DE MONTR�AL, QUEBEC [2406-G]    \n",
       "1             R�GION DE MONTR�AL, QUEBEC [2406-G]    \n",
       "2  CITY OF HAMILTON HEALTH UNIT, ONTARIO [3537-A]    \n",
       "3  CITY OF HAMILTON HEALTH UNIT, ONTARIO [3537-A]    \n",
       "4    CITY OF OTTAWA HEALTH UNIT, ONTARIO [3551-B]    \n",
       "\n",
       "                               CATEGORY  RATE  \n",
       "0  Unemployment rate, 15 years and over   9.8  \n",
       "1     Unemployment rate, 15 to 24 years  13.8  \n",
       "2  Unemployment rate, 15 years and over   6.2  \n",
       "3     Unemployment rate, 15 to 24 years  13.7  \n",
       "4  Unemployment rate, 15 years and over   6.7  "
      ]
     },
     "execution_count": 34,
     "metadata": {},
     "output_type": "execute_result"
    }
   ],
   "source": [
    "unemp_df = pd.read_csv('./datasets/unemployment2014.csv')\n",
    "unemp_df['CITY'] = unemp_df['CITY'].str.upper()\n",
    "unemp_df.head()"
   ]
  },
  {
   "cell_type": "code",
   "execution_count": 37,
   "metadata": {
    "collapsed": false
   },
   "outputs": [],
   "source": [
    "for city in cities:\n",
    "    search_term = city[:4]\n",
    "    \n",
    "    #search results\n",
    "    search_result = unemp_df[ unemp_df['CITY'].str.contains(r'\\b('+search_term+')\\w?', na=False) ]\n",
    "    \n",
    "    # split into two categories, 15+ and 15-24\n",
    "    data[city]['UNEMPL_15-24'] = search_result[search_result['CATEGORY'].str.contains('15 to 24')]['RATE'].tolist()[0]/100.0\n",
    "    data[city]['UNEMPL_15+'] = search_result[search_result['CATEGORY'].str.contains('15 years and over')]['RATE'].tolist()[0]/100.0"
   ]
  },
  {
   "cell_type": "markdown",
   "metadata": {},
   "source": [
    "# Universities\n",
    "Counted from [4ICU](http://www.4icu.org/ca/universities-canada.htm). Each data point is divide by the `max()` to allow us to obtain a score from 0 to 1. This enables us to compare the number of universities amongst each other."
   ]
  },
  {
   "cell_type": "code",
   "execution_count": 17,
   "metadata": {
    "collapsed": true
   },
   "outputs": [],
   "source": [
    "number_of_universities = { 'VANCOUVER': 2, 'MONTREAL': 7, 'TORONTO': 4, 'OTTAWA': 3, 'HAMILTON': 1, 'WINNIPEG': 3, 'EDMONTON': 5, 'CALGARY': 5, 'SASKATOON': 2 }"
   ]
  },
  {
   "cell_type": "code",
   "execution_count": 18,
   "metadata": {
    "collapsed": true
   },
   "outputs": [],
   "source": [
    "for city, n in number_of_universities.items():\n",
    "    data[city]['UNIVERSITY'] = n/7.0"
   ]
  },
  {
   "cell_type": "markdown",
   "metadata": {},
   "source": [
    "# Final Curated Data set"
   ]
  },
  {
   "cell_type": "code",
   "execution_count": 55,
   "metadata": {
    "collapsed": false
   },
   "outputs": [
    {
     "data": {
      "text/html": [
       "<div style=\"max-height:1000px;max-width:1500px;overflow:auto;\">\n",
       "<table border=\"1\" class=\"dataframe\">\n",
       "  <thead>\n",
       "    <tr style=\"text-align: right;\">\n",
       "      <th></th>\n",
       "      <th>AGE_CAT_0-4</th>\n",
       "      <th>AGE_CAT_10-14</th>\n",
       "      <th>AGE_CAT_15-19</th>\n",
       "      <th>AGE_CAT_20-24</th>\n",
       "      <th>AGE_CAT_25-29</th>\n",
       "      <th>AGE_CAT_30-34</th>\n",
       "      <th>AGE_CAT_35-39</th>\n",
       "      <th>AGE_CAT_40-44</th>\n",
       "      <th>AGE_CAT_45-49</th>\n",
       "      <th>AGE_CAT_5-9</th>\n",
       "      <th>...</th>\n",
       "      <th>BUSINESSES</th>\n",
       "      <th>CRIME</th>\n",
       "      <th>OUTDOOR</th>\n",
       "      <th>PARKS</th>\n",
       "      <th>POPULATION</th>\n",
       "      <th>TRANSIT_SCORE</th>\n",
       "      <th>UNEMPLOYMENT</th>\n",
       "      <th>UNEMPL_15+</th>\n",
       "      <th>UNEMPL_15-24</th>\n",
       "      <th>UNIVERSITY</th>\n",
       "    </tr>\n",
       "  </thead>\n",
       "  <tbody>\n",
       "    <tr>\n",
       "      <th>CALGARY</th>\n",
       "      <td>0.063840</td>\n",
       "      <td>0.053175</td>\n",
       "      <td>0.056785</td>\n",
       "      <td>0.068301</td>\n",
       "      <td>0.085462</td>\n",
       "      <td>0.093434</td>\n",
       "      <td>0.082916</td>\n",
       "      <td>0.077784</td>\n",
       "      <td>0.071268</td>\n",
       "      <td>0.059873</td>\n",
       "      <td>...</td>\n",
       "      <td>0</td>\n",
       "      <td>0.6040</td>\n",
       "      <td>0.69</td>\n",
       "      <td>0.88</td>\n",
       "      <td>1214839</td>\n",
       "      <td>0.43</td>\n",
       "      <td>0</td>\n",
       "      <td>0.048</td>\n",
       "      <td>0.098</td>\n",
       "      <td>0.714286</td>\n",
       "    </tr>\n",
       "    <tr>\n",
       "      <th>EDMONTON</th>\n",
       "      <td>0.061928</td>\n",
       "      <td>0.051831</td>\n",
       "      <td>0.057203</td>\n",
       "      <td>0.075901</td>\n",
       "      <td>0.090961</td>\n",
       "      <td>0.089605</td>\n",
       "      <td>0.075942</td>\n",
       "      <td>0.068441</td>\n",
       "      <td>0.066505</td>\n",
       "      <td>0.057247</td>\n",
       "      <td>...</td>\n",
       "      <td>0</td>\n",
       "      <td>0.8449</td>\n",
       "      <td>0.80</td>\n",
       "      <td>0.89</td>\n",
       "      <td>1159869</td>\n",
       "      <td>0.44</td>\n",
       "      <td>0</td>\n",
       "      <td>0.051</td>\n",
       "      <td>0.100</td>\n",
       "      <td>0.714286</td>\n",
       "    </tr>\n",
       "    <tr>\n",
       "      <th>HAMILTON</th>\n",
       "      <td>0.050418</td>\n",
       "      <td>0.054018</td>\n",
       "      <td>0.062290</td>\n",
       "      <td>0.072376</td>\n",
       "      <td>0.066994</td>\n",
       "      <td>0.063852</td>\n",
       "      <td>0.062413</td>\n",
       "      <td>0.065816</td>\n",
       "      <td>0.071380</td>\n",
       "      <td>0.053104</td>\n",
       "      <td>...</td>\n",
       "      <td>0</td>\n",
       "      <td>0.5511</td>\n",
       "      <td>0.73</td>\n",
       "      <td>0.86</td>\n",
       "      <td>721053</td>\n",
       "      <td>0.42</td>\n",
       "      <td>0</td>\n",
       "      <td>0.062</td>\n",
       "      <td>0.137</td>\n",
       "      <td>0.142857</td>\n",
       "    </tr>\n",
       "    <tr>\n",
       "      <th>MONTREAL</th>\n",
       "      <td>0.056343</td>\n",
       "      <td>0.049537</td>\n",
       "      <td>0.056455</td>\n",
       "      <td>0.071343</td>\n",
       "      <td>0.069167</td>\n",
       "      <td>0.075015</td>\n",
       "      <td>0.074128</td>\n",
       "      <td>0.069141</td>\n",
       "      <td>0.071504</td>\n",
       "      <td>0.054005</td>\n",
       "      <td>...</td>\n",
       "      <td>0</td>\n",
       "      <td>0.6593</td>\n",
       "      <td>0.66</td>\n",
       "      <td>0.91</td>\n",
       "      <td>3824221</td>\n",
       "      <td>0.77</td>\n",
       "      <td>0</td>\n",
       "      <td>0.098</td>\n",
       "      <td>0.138</td>\n",
       "      <td>1.000000</td>\n",
       "    </tr>\n",
       "    <tr>\n",
       "      <th>OTTAWA</th>\n",
       "      <td>0.054458</td>\n",
       "      <td>0.052970</td>\n",
       "      <td>0.061301</td>\n",
       "      <td>0.076179</td>\n",
       "      <td>0.073756</td>\n",
       "      <td>0.070534</td>\n",
       "      <td>0.068428</td>\n",
       "      <td>0.069660</td>\n",
       "      <td>0.072807</td>\n",
       "      <td>0.055031</td>\n",
       "      <td>...</td>\n",
       "      <td>0</td>\n",
       "      <td>0.5328</td>\n",
       "      <td>0.79</td>\n",
       "      <td>0.91</td>\n",
       "      <td>1236324</td>\n",
       "      <td>0.49</td>\n",
       "      <td>0</td>\n",
       "      <td>0.067</td>\n",
       "      <td>0.128</td>\n",
       "      <td>0.428571</td>\n",
       "    </tr>\n",
       "    <tr>\n",
       "      <th>SASKATOON</th>\n",
       "      <td>0.062471</td>\n",
       "      <td>0.054315</td>\n",
       "      <td>0.058822</td>\n",
       "      <td>0.085765</td>\n",
       "      <td>0.102078</td>\n",
       "      <td>0.085642</td>\n",
       "      <td>0.070667</td>\n",
       "      <td>0.063835</td>\n",
       "      <td>0.061224</td>\n",
       "      <td>0.058353</td>\n",
       "      <td>...</td>\n",
       "      <td>0</td>\n",
       "      <td>0.9909</td>\n",
       "      <td>0.77</td>\n",
       "      <td>0.89</td>\n",
       "      <td>260600</td>\n",
       "      <td>0.00</td>\n",
       "      <td>0</td>\n",
       "      <td>0.040</td>\n",
       "      <td>0.068</td>\n",
       "      <td>0.285714</td>\n",
       "    </tr>\n",
       "    <tr>\n",
       "      <th>TORONTO</th>\n",
       "      <td>0.053736</td>\n",
       "      <td>0.054635</td>\n",
       "      <td>0.063571</td>\n",
       "      <td>0.072731</td>\n",
       "      <td>0.073705</td>\n",
       "      <td>0.074372</td>\n",
       "      <td>0.071559</td>\n",
       "      <td>0.073017</td>\n",
       "      <td>0.075850</td>\n",
       "      <td>0.055133</td>\n",
       "      <td>...</td>\n",
       "      <td>0</td>\n",
       "      <td>0.4714</td>\n",
       "      <td>0.69</td>\n",
       "      <td>0.85</td>\n",
       "      <td>5583064</td>\n",
       "      <td>0.78</td>\n",
       "      <td>0</td>\n",
       "      <td>0.095</td>\n",
       "      <td>0.216</td>\n",
       "      <td>0.571429</td>\n",
       "    </tr>\n",
       "    <tr>\n",
       "      <th>VANCOUVER</th>\n",
       "      <td>0.046733</td>\n",
       "      <td>0.048941</td>\n",
       "      <td>0.061900</td>\n",
       "      <td>0.074837</td>\n",
       "      <td>0.074465</td>\n",
       "      <td>0.076066</td>\n",
       "      <td>0.070180</td>\n",
       "      <td>0.073289</td>\n",
       "      <td>0.075123</td>\n",
       "      <td>0.048129</td>\n",
       "      <td>...</td>\n",
       "      <td>0</td>\n",
       "      <td>0.9026</td>\n",
       "      <td>0.75</td>\n",
       "      <td>0.87</td>\n",
       "      <td>2313328</td>\n",
       "      <td>0.74</td>\n",
       "      <td>0</td>\n",
       "      <td>0.047</td>\n",
       "      <td>0.091</td>\n",
       "      <td>0.285714</td>\n",
       "    </tr>\n",
       "    <tr>\n",
       "      <th>WINNIPEG</th>\n",
       "      <td>0.054495</td>\n",
       "      <td>0.056325</td>\n",
       "      <td>0.063847</td>\n",
       "      <td>0.074039</td>\n",
       "      <td>0.076011</td>\n",
       "      <td>0.073354</td>\n",
       "      <td>0.068369</td>\n",
       "      <td>0.066727</td>\n",
       "      <td>0.068052</td>\n",
       "      <td>0.054693</td>\n",
       "      <td>...</td>\n",
       "      <td>0</td>\n",
       "      <td>0.8317</td>\n",
       "      <td>0.73</td>\n",
       "      <td>0.88</td>\n",
       "      <td>730018</td>\n",
       "      <td>0.51</td>\n",
       "      <td>0</td>\n",
       "      <td>0.060</td>\n",
       "      <td>0.117</td>\n",
       "      <td>0.428571</td>\n",
       "    </tr>\n",
       "  </tbody>\n",
       "</table>\n",
       "<p>9 rows × 29 columns</p>\n",
       "</div>"
      ],
      "text/plain": [
       "           AGE_CAT_0-4  AGE_CAT_10-14  AGE_CAT_15-19  AGE_CAT_20-24  \\\n",
       "CALGARY       0.063840       0.053175       0.056785       0.068301   \n",
       "EDMONTON      0.061928       0.051831       0.057203       0.075901   \n",
       "HAMILTON      0.050418       0.054018       0.062290       0.072376   \n",
       "MONTREAL      0.056343       0.049537       0.056455       0.071343   \n",
       "OTTAWA        0.054458       0.052970       0.061301       0.076179   \n",
       "SASKATOON     0.062471       0.054315       0.058822       0.085765   \n",
       "TORONTO       0.053736       0.054635       0.063571       0.072731   \n",
       "VANCOUVER     0.046733       0.048941       0.061900       0.074837   \n",
       "WINNIPEG      0.054495       0.056325       0.063847       0.074039   \n",
       "\n",
       "           AGE_CAT_25-29  AGE_CAT_30-34  AGE_CAT_35-39  AGE_CAT_40-44  \\\n",
       "CALGARY         0.085462       0.093434       0.082916       0.077784   \n",
       "EDMONTON        0.090961       0.089605       0.075942       0.068441   \n",
       "HAMILTON        0.066994       0.063852       0.062413       0.065816   \n",
       "MONTREAL        0.069167       0.075015       0.074128       0.069141   \n",
       "OTTAWA          0.073756       0.070534       0.068428       0.069660   \n",
       "SASKATOON       0.102078       0.085642       0.070667       0.063835   \n",
       "TORONTO         0.073705       0.074372       0.071559       0.073017   \n",
       "VANCOUVER       0.074465       0.076066       0.070180       0.073289   \n",
       "WINNIPEG        0.076011       0.073354       0.068369       0.066727   \n",
       "\n",
       "           AGE_CAT_45-49  AGE_CAT_5-9     ...      BUSINESSES   CRIME  \\\n",
       "CALGARY         0.071268     0.059873     ...               0  0.6040   \n",
       "EDMONTON        0.066505     0.057247     ...               0  0.8449   \n",
       "HAMILTON        0.071380     0.053104     ...               0  0.5511   \n",
       "MONTREAL        0.071504     0.054005     ...               0  0.6593   \n",
       "OTTAWA          0.072807     0.055031     ...               0  0.5328   \n",
       "SASKATOON       0.061224     0.058353     ...               0  0.9909   \n",
       "TORONTO         0.075850     0.055133     ...               0  0.4714   \n",
       "VANCOUVER       0.075123     0.048129     ...               0  0.9026   \n",
       "WINNIPEG        0.068052     0.054693     ...               0  0.8317   \n",
       "\n",
       "           OUTDOOR  PARKS  POPULATION  TRANSIT_SCORE  UNEMPLOYMENT  \\\n",
       "CALGARY       0.69   0.88     1214839           0.43             0   \n",
       "EDMONTON      0.80   0.89     1159869           0.44             0   \n",
       "HAMILTON      0.73   0.86      721053           0.42             0   \n",
       "MONTREAL      0.66   0.91     3824221           0.77             0   \n",
       "OTTAWA        0.79   0.91     1236324           0.49             0   \n",
       "SASKATOON     0.77   0.89      260600           0.00             0   \n",
       "TORONTO       0.69   0.85     5583064           0.78             0   \n",
       "VANCOUVER     0.75   0.87     2313328           0.74             0   \n",
       "WINNIPEG      0.73   0.88      730018           0.51             0   \n",
       "\n",
       "           UNEMPL_15+  UNEMPL_15-24  UNIVERSITY  \n",
       "CALGARY         0.048         0.098    0.714286  \n",
       "EDMONTON        0.051         0.100    0.714286  \n",
       "HAMILTON        0.062         0.137    0.142857  \n",
       "MONTREAL        0.098         0.138    1.000000  \n",
       "OTTAWA          0.067         0.128    0.428571  \n",
       "SASKATOON       0.040         0.068    0.285714  \n",
       "TORONTO         0.095         0.216    0.571429  \n",
       "VANCOUVER       0.047         0.091    0.285714  \n",
       "WINNIPEG        0.060         0.117    0.428571  \n",
       "\n",
       "[9 rows x 29 columns]"
      ]
     },
     "execution_count": 55,
     "metadata": {},
     "output_type": "execute_result"
    }
   ],
   "source": [
    "s = json.dumps(data)\n",
    "df = pd.read_json(s, orient='index')\n",
    "df\n"
   ]
  },
  {
   "cell_type": "markdown",
   "metadata": {},
   "source": [
    "It's useful to know the minimum and maximum values for each column, this code seems to extract that"
   ]
  },
  {
   "cell_type": "code",
   "execution_count": 54,
   "metadata": {
    "collapsed": false
   },
   "outputs": [
    {
     "data": {
      "text/plain": [
       "{'AGE_CAT_0-4': 0.046732588778074007,\n",
       " 'AGE_CAT_10-14': 0.048940832428918002,\n",
       " 'AGE_CAT_15-19': 0.056454971181645004,\n",
       " 'AGE_CAT_20-24': 0.068300679381341003,\n",
       " 'AGE_CAT_25-29': 0.066994412122922009,\n",
       " 'AGE_CAT_30-34': 0.063851557967037009,\n",
       " 'AGE_CAT_35-39': 0.062412771095673003,\n",
       " 'AGE_CAT_40-44': 0.063835095165549999,\n",
       " 'AGE_CAT_45-49': 0.061223946725919007,\n",
       " 'AGE_CAT_5-9': 0.048128781693154002,\n",
       " 'AGE_CAT_50-54': 0.068322278917221008,\n",
       " 'AGE_CAT_55-59': 0.062584404957523002,\n",
       " 'AGE_CAT_60-64': 0.048416139376607006,\n",
       " 'AGE_CAT_65-69': 0.035442706833835005,\n",
       " 'AGE_CAT_70-74': 0.023005272545159001,\n",
       " 'AGE_CAT_75-79': 0.016957164924672002,\n",
       " 'AGE_CAT_80-84': 0.013060869923744001,\n",
       " 'AGE_CAT_85-89': 0.0083093946845180008,\n",
       " 'AGE_CAT_90+': 0.0045254176201250003,\n",
       " 'BUSINESSES': 0,\n",
       " 'CRIME': 0.47139999999999904,\n",
       " 'OUTDOOR': 0.66000000000000003,\n",
       " 'PARKS': 0.84999999999999909,\n",
       " 'POPULATION': 260600,\n",
       " 'TRANSIT_SCORE': 0.0,\n",
       " 'UNEMPLOYMENT': 0,\n",
       " 'UNEMPL_15+': 0.040000000000000001,\n",
       " 'UNEMPL_15-24': 0.068000000000000005,\n",
       " 'UNIVERSITY': 0.14285714285714202}"
      ]
     },
     "execution_count": 54,
     "metadata": {},
     "output_type": "execute_result"
    }
   ],
   "source": [
    "minimums = {}\n",
    "categories = map( str , df.columns.values.tolist())\n",
    "for category in categories:\n",
    "    minimums[category] = df[category].min()\n",
    "minimums"
   ]
  },
  {
   "cell_type": "code",
   "execution_count": 56,
   "metadata": {
    "collapsed": false
   },
   "outputs": [
    {
     "data": {
      "text/plain": [
       "{'AGE_CAT_0-4': 0.06383995120567601,\n",
       " 'AGE_CAT_10-14': 0.056324747010119004,\n",
       " 'AGE_CAT_15-19': 0.063846723908820999,\n",
       " 'AGE_CAT_20-24': 0.085765415754705004,\n",
       " 'AGE_CAT_25-29': 0.102077609318972,\n",
       " 'AGE_CAT_30-34': 0.093434305736531012,\n",
       " 'AGE_CAT_35-39': 0.082915517718154003,\n",
       " 'AGE_CAT_40-44': 0.077784436288361,\n",
       " 'AGE_CAT_45-49': 0.075849559854445012,\n",
       " 'AGE_CAT_5-9': 0.059873279776160006,\n",
       " 'AGE_CAT_50-54': 0.080053287935410999,\n",
       " 'AGE_CAT_55-59': 0.070929187118087003,\n",
       " 'AGE_CAT_60-64': 0.058866115719759006,\n",
       " 'AGE_CAT_65-69': 0.051349401746930007,\n",
       " 'AGE_CAT_70-74': 0.037978223483719001,\n",
       " 'AGE_CAT_75-79': 0.029815950278871003,\n",
       " 'AGE_CAT_80-84': 0.024009837590887002,\n",
       " 'AGE_CAT_85-89': 0.016425170014688,\n",
       " 'AGE_CAT_90+': 0.0090221476474980009,\n",
       " 'BUSINESSES': 0,\n",
       " 'CRIME': 0.9909,\n",
       " 'OUTDOOR': 0.80000000000000004,\n",
       " 'PARKS': 0.91000000000000003,\n",
       " 'POPULATION': 5583064,\n",
       " 'TRANSIT_SCORE': 0.78000000000000003,\n",
       " 'UNEMPLOYMENT': 0,\n",
       " 'UNEMPL_15+': 0.098000000000000004,\n",
       " 'UNEMPL_15-24': 0.21600000000000003,\n",
       " 'UNIVERSITY': 1.0}"
      ]
     },
     "execution_count": 56,
     "metadata": {},
     "output_type": "execute_result"
    }
   ],
   "source": [
    "maximums = {}\n",
    "categories = map( str , df.columns.values.tolist())\n",
    "for category in categories:\n",
    "    maximums[category] = df[category].max()\n",
    "maximums"
   ]
  },
  {
   "cell_type": "code",
   "execution_count": null,
   "metadata": {
    "collapsed": true
   },
   "outputs": [],
   "source": []
  }
 ],
 "metadata": {
  "kernelspec": {
   "display_name": "Python 2",
   "language": "python",
   "name": "python2"
  },
  "language_info": {
   "codemirror_mode": {
    "name": "ipython",
    "version": 2
   },
   "file_extension": ".py",
   "mimetype": "text/x-python",
   "name": "python",
   "nbconvert_exporter": "python",
   "pygments_lexer": "ipython2",
   "version": "2.7.6"
  }
 },
 "nbformat": 4,
 "nbformat_minor": 0
}
